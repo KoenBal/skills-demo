{
 "cells": [
  {
   "cell_type": "code",
   "execution_count": 197,
   "metadata": {
    "Collapsed": "false"
   },
   "outputs": [],
   "source": [
    "# black code formatiing in Jupyter cells\n",
    "%load_ext lab_black\n",
    "\n",
    "# display full output when running a cell instead of only the last result\n",
    "from IPython.core.interactiveshell import InteractiveShell\n",
    "\n",
    "InteractiveShell.ast_node_interactivity = \"last\"\n",
    "\n",
    "# interactively display json\n",
    "from IPython.display import JSON"
   ]
  },
  {
   "cell_type": "markdown",
   "metadata": {
    "Collapsed": "false"
   },
   "source": [
    "# Evaluation criteria\n",
    "\n",
    "The goal of this assignment is to get a view on your hands-on \"data engineering\" skills.  \n",
    "At our company, our data scientists and engineers collaborate on projects.  \n",
    "Your main focus will be creating performant & robust data flows.  \n",
    "For a take-home-assignment, we cannot grant you access to our infrastructure.  \n",
    "The assignement below measures your proficiency in general programming, data science & engineering tasks using python.  \n",
    "Completion should not take more than half a day.\n",
    "\n",
    "**We expect you to be proficient in:**\n",
    " * SQL queries (Sybase IQ system)\n",
    " * ETL flows (In collaboration with existing teams)\n",
    " * General python to glue it all together\n",
    " * Python data science ecosystem (Pandas + SKlearn)\n",
    " \n",
    "**In this exercise we expect you to demonstrate your ability to / knowledge of:**\n",
    " * Building a data science runtime\n",
    " * PEP8 / Google python styleguide\n",
    " * Efficiently getting the job done\n",
    " * Choose meaningfull names for variables & functions\n",
    " * Writing maintainable code (yes, you might need to document some steps)\n",
    " * Help a data scientist present interactive results.\n",
    " * Offer predictions via REST api"
   ]
  },
  {
   "cell_type": "markdown",
   "metadata": {
    "Collapsed": "false"
   },
   "source": [
    "# Setting-up a data science workspace\n",
    "\n",
    "We allow you full freedom in setting up a data science runtime.  \n",
    "The main objective is having a runtime where you can run this notebook and the code you will develop.  \n",
    "You can choose for a local setup on your pc, or even a cloud setup if you're up for it.   \n",
    "\n",
    "**In your environment, you will need things for:**\n",
    " * https request\n",
    " * python3 (not python2 !!)\n",
    " * (geo)pandas\n",
    " * interactive maps (e.g. folium, altair, ...)\n",
    " * REST apis\n",
    " \n",
    "**Deliverables we expect**:\n",
    " * notebook with the completed assignment\n",
    " * list of packages for your runtime (e.g. yml or txt file)\n",
    " * evidence of a working API endpoint"
   ]
  },
  {
   "cell_type": "markdown",
   "metadata": {
    "Collapsed": "false"
   },
   "source": [
    "# Importing packages"
   ]
  },
  {
   "cell_type": "markdown",
   "metadata": {
    "Collapsed": "false"
   },
   "source": [
    "We would like you to put all your import statements here, together in 1 place.  \n",
    "Before submitting, please make sure you remove any unused imports :-)  "
   ]
  },
  {
   "cell_type": "code",
   "execution_count": 112,
   "metadata": {
    "Collapsed": "false"
   },
   "outputs": [],
   "source": [
    "import pandas as pd\n",
    "import numpy as np\n",
    "import altair as alt\n",
    "import joblib\n",
    "# import lightgbm as lgb\n",
    "\n",
    "from pandas.io.json import json_normalize\n",
    "\n",
    "import requests\n",
    "import json\n",
    "from pprint import pprint\n",
    "import unittest"
   ]
  },
  {
   "cell_type": "markdown",
   "metadata": {
    "Collapsed": "false"
   },
   "source": [
    "# Data ingestion exercises\n",
    "\n",
    "## Getting store location data from an API"
   ]
  },
  {
   "cell_type": "markdown",
   "metadata": {
    "Collapsed": "false"
   },
   "source": [
    "**Goal:** Obtain a pandas dataframe  \n",
    "**Hint:** You will need to normalise/flatten the json, because it contains multiple levels  \n",
    "**API call:** https://ecgplacesmw.colruytgroup.com/ecgplacesmw/v3/nl/places/filter/clp-places  "
   ]
  },
  {
   "cell_type": "code",
   "execution_count": 113,
   "metadata": {
    "Collapsed": "false"
   },
   "outputs": [],
   "source": [
    "url = \"https://ecgplacesmw.colruytgroup.com/ecgplacesmw/v3/nl/places/filter/clp-places\"\n",
    "resp = requests.get(url)\n",
    "d = resp.json()  # d is a list of dictionaries\n",
    "df = json_normalize(data=d, sep=\".\")"
   ]
  },
  {
   "cell_type": "code",
   "execution_count": 136,
   "metadata": {
    "Collapsed": "false"
   },
   "outputs": [
    {
     "data": {
      "application/json": {
       "address": {
        "cityName": "AALST",
        "countryName": "België",
        "houseNumber": "41",
        "postalcode": "9300",
        "streetName": "BRUSSELSE STEENWEG"
       },
       "branchId": "4156",
       "commercialName": "AALST (COLRUYT)",
       "ensign": {
        "id": 8,
        "name": "COLR_Colruyt"
       },
       "geoCoordinates": {
        "latitude": 50.933074,
        "longitude": 4.0538972
       },
       "handoverServices": [
        "CSOP_ORDERABLE"
       ],
       "isActive": true,
       "moreInfoUrl": "https://www.colruyt.be/nl/colruyt-openingsuren/4156",
       "placeId": 902,
       "placeType": {
        "id": 1,
        "longName": "Winkel",
        "placeTypeDescription": "Winkel"
       },
       "routeUrl": "https://maps.apple.com/?daddr=50.933074,4.0538972",
       "sellingPartners": [
        "QUALITY"
       ],
       "sourceStatus": "AC"
      },
      "text/plain": [
       "<IPython.core.display.JSON object>"
      ]
     },
     "execution_count": 136,
     "metadata": {
      "application/json": {
       "expanded": false,
       "root": "root"
      }
     },
     "output_type": "execute_result"
    }
   ],
   "source": [
    "JSON(d[0])"
   ]
  },
  {
   "cell_type": "code",
   "execution_count": 114,
   "metadata": {
    "Collapsed": "false"
   },
   "outputs": [
    {
     "data": {
      "text/plain": [
       "Index(['placeId', 'commercialName', 'branchId', 'sourceStatus',\n",
       "       'sellingPartners', 'handoverServices', 'moreInfoUrl', 'routeUrl',\n",
       "       'isActive', 'ensign.id', 'ensign.name', 'placeType.id',\n",
       "       'placeType.longName', 'placeType.placeTypeDescription',\n",
       "       'geoCoordinates.latitude', 'geoCoordinates.longitude',\n",
       "       'address.streetName', 'address.houseNumber', 'address.postalcode',\n",
       "       'address.cityName', 'address.countryName'],\n",
       "      dtype='object')"
      ]
     },
     "execution_count": 114,
     "metadata": {},
     "output_type": "execute_result"
    }
   ],
   "source": [
    "# example structure\n",
    "df.columns"
   ]
  },
  {
   "cell_type": "code",
   "execution_count": 198,
   "metadata": {
    "Collapsed": "false"
   },
   "outputs": [
    {
     "ename": "KeyError",
     "evalue": "\"None of ['placeId'] are in the columns\"",
     "output_type": "error",
     "traceback": [
      "\u001b[1;31m---------------------------------------------------------------------------\u001b[0m",
      "\u001b[1;31mKeyError\u001b[0m                                  Traceback (most recent call last)",
      "\u001b[1;32m<ipython-input-198-78fbb81bc834>\u001b[0m in \u001b[0;36m<module>\u001b[1;34m\u001b[0m\n\u001b[0;32m      2\u001b[0m \u001b[1;31m# set an index?\u001b[0m\u001b[1;33m\u001b[0m\u001b[1;33m\u001b[0m\u001b[1;33m\u001b[0m\u001b[0m\n\u001b[0;32m      3\u001b[0m \u001b[1;31m# df.placeId.nunique()\u001b[0m\u001b[1;33m\u001b[0m\u001b[1;33m\u001b[0m\u001b[1;33m\u001b[0m\u001b[0m\n\u001b[1;32m----> 4\u001b[1;33m \u001b[0mdf\u001b[0m\u001b[1;33m.\u001b[0m\u001b[0mset_index\u001b[0m\u001b[1;33m(\u001b[0m\u001b[1;34m'placeId'\u001b[0m\u001b[1;33m,\u001b[0m \u001b[0mdrop\u001b[0m\u001b[1;33m=\u001b[0m\u001b[1;32mTrue\u001b[0m\u001b[1;33m,\u001b[0m \u001b[0minplace\u001b[0m\u001b[1;33m=\u001b[0m\u001b[1;32mTrue\u001b[0m\u001b[1;33m)\u001b[0m\u001b[1;33m\u001b[0m\u001b[1;33m\u001b[0m\u001b[0m\n\u001b[0m\u001b[0;32m      5\u001b[0m \u001b[1;31m# optimize memory-usage by changing dtypes?\u001b[0m\u001b[1;33m\u001b[0m\u001b[1;33m\u001b[0m\u001b[1;33m\u001b[0m\u001b[0m\n\u001b[0;32m      6\u001b[0m \u001b[1;31m# df.dtypes\u001b[0m\u001b[1;33m\u001b[0m\u001b[1;33m\u001b[0m\u001b[1;33m\u001b[0m\u001b[0m\n",
      "\u001b[1;32m~\\Miniconda3\\envs\\colruyt\\lib\\site-packages\\pandas\\core\\frame.py\u001b[0m in \u001b[0;36mset_index\u001b[1;34m(self, keys, drop, append, inplace, verify_integrity)\u001b[0m\n\u001b[0;32m   4409\u001b[0m \u001b[1;33m\u001b[0m\u001b[0m\n\u001b[0;32m   4410\u001b[0m         \u001b[1;32mif\u001b[0m \u001b[0mmissing\u001b[0m\u001b[1;33m:\u001b[0m\u001b[1;33m\u001b[0m\u001b[1;33m\u001b[0m\u001b[0m\n\u001b[1;32m-> 4411\u001b[1;33m             \u001b[1;32mraise\u001b[0m \u001b[0mKeyError\u001b[0m\u001b[1;33m(\u001b[0m\u001b[1;34m\"None of {} are in the columns\"\u001b[0m\u001b[1;33m.\u001b[0m\u001b[0mformat\u001b[0m\u001b[1;33m(\u001b[0m\u001b[0mmissing\u001b[0m\u001b[1;33m)\u001b[0m\u001b[1;33m)\u001b[0m\u001b[1;33m\u001b[0m\u001b[1;33m\u001b[0m\u001b[0m\n\u001b[0m\u001b[0;32m   4412\u001b[0m \u001b[1;33m\u001b[0m\u001b[0m\n\u001b[0;32m   4413\u001b[0m         \u001b[1;32mif\u001b[0m \u001b[0minplace\u001b[0m\u001b[1;33m:\u001b[0m\u001b[1;33m\u001b[0m\u001b[1;33m\u001b[0m\u001b[0m\n",
      "\u001b[1;31mKeyError\u001b[0m: \"None of ['placeId'] are in the columns\""
     ]
    }
   ],
   "source": [
    "# df.shape\n",
    "# set an index?\n",
    "# df.placeId.nunique()\n",
    "df.set_index('placeId', drop=True, inplace=True)\n",
    "# optimize memory-usage by changing dtypes?\n",
    "# df.dtypes\n",
    "# no, memory is not an issue\n"
   ]
  },
  {
   "cell_type": "code",
   "execution_count": 116,
   "metadata": {
    "Collapsed": "false"
   },
   "outputs": [
    {
     "data": {
      "text/html": [
       "<div>\n",
       "<style scoped>\n",
       "    .dataframe tbody tr th:only-of-type {\n",
       "        vertical-align: middle;\n",
       "    }\n",
       "\n",
       "    .dataframe tbody tr th {\n",
       "        vertical-align: top;\n",
       "    }\n",
       "\n",
       "    .dataframe thead th {\n",
       "        text-align: right;\n",
       "    }\n",
       "</style>\n",
       "<table border=\"1\" class=\"dataframe\">\n",
       "  <thead>\n",
       "    <tr style=\"text-align: right;\">\n",
       "      <th></th>\n",
       "      <th>commercialName</th>\n",
       "      <th>branchId</th>\n",
       "      <th>sourceStatus</th>\n",
       "      <th>sellingPartners</th>\n",
       "      <th>handoverServices</th>\n",
       "      <th>moreInfoUrl</th>\n",
       "      <th>routeUrl</th>\n",
       "      <th>isActive</th>\n",
       "      <th>ensign.id</th>\n",
       "      <th>ensign.name</th>\n",
       "      <th>placeType.id</th>\n",
       "      <th>placeType.longName</th>\n",
       "      <th>placeType.placeTypeDescription</th>\n",
       "      <th>geoCoordinates.latitude</th>\n",
       "      <th>geoCoordinates.longitude</th>\n",
       "      <th>address.streetName</th>\n",
       "      <th>address.houseNumber</th>\n",
       "      <th>address.postalcode</th>\n",
       "      <th>address.cityName</th>\n",
       "      <th>address.countryName</th>\n",
       "    </tr>\n",
       "    <tr>\n",
       "      <th>placeId</th>\n",
       "      <th></th>\n",
       "      <th></th>\n",
       "      <th></th>\n",
       "      <th></th>\n",
       "      <th></th>\n",
       "      <th></th>\n",
       "      <th></th>\n",
       "      <th></th>\n",
       "      <th></th>\n",
       "      <th></th>\n",
       "      <th></th>\n",
       "      <th></th>\n",
       "      <th></th>\n",
       "      <th></th>\n",
       "      <th></th>\n",
       "      <th></th>\n",
       "      <th></th>\n",
       "      <th></th>\n",
       "      <th></th>\n",
       "      <th></th>\n",
       "    </tr>\n",
       "  </thead>\n",
       "  <tbody>\n",
       "    <tr>\n",
       "      <th>902</th>\n",
       "      <td>AALST (COLRUYT)</td>\n",
       "      <td>4156</td>\n",
       "      <td>AC</td>\n",
       "      <td>[QUALITY]</td>\n",
       "      <td>[CSOP_ORDERABLE]</td>\n",
       "      <td>https://www.colruyt.be/nl/colruyt-openingsuren...</td>\n",
       "      <td>https://maps.apple.com/?daddr=50.933074,4.0538972</td>\n",
       "      <td>True</td>\n",
       "      <td>8</td>\n",
       "      <td>COLR_Colruyt</td>\n",
       "      <td>1</td>\n",
       "      <td>Winkel</td>\n",
       "      <td>Winkel</td>\n",
       "      <td>50.933074</td>\n",
       "      <td>4.053897</td>\n",
       "      <td>BRUSSELSE STEENWEG</td>\n",
       "      <td>41</td>\n",
       "      <td>9300</td>\n",
       "      <td>AALST</td>\n",
       "      <td>België</td>\n",
       "    </tr>\n",
       "    <tr>\n",
       "      <th>946</th>\n",
       "      <td>AALTER (COLRUYT)</td>\n",
       "      <td>4218</td>\n",
       "      <td>AC</td>\n",
       "      <td>[QUALITY]</td>\n",
       "      <td>[CSOP_ORDERABLE]</td>\n",
       "      <td>https://www.colruyt.be/nl/colruyt-openingsuren...</td>\n",
       "      <td>https://maps.apple.com/?daddr=51.0784761,3.450...</td>\n",
       "      <td>True</td>\n",
       "      <td>8</td>\n",
       "      <td>COLR_Colruyt</td>\n",
       "      <td>1</td>\n",
       "      <td>Winkel</td>\n",
       "      <td>Winkel</td>\n",
       "      <td>51.078476</td>\n",
       "      <td>3.450013</td>\n",
       "      <td>LOSTRAAT</td>\n",
       "      <td>66</td>\n",
       "      <td>9880</td>\n",
       "      <td>AALTER</td>\n",
       "      <td>België</td>\n",
       "    </tr>\n",
       "    <tr>\n",
       "      <th>950</th>\n",
       "      <td>AARSCHOT (COLRUYT)</td>\n",
       "      <td>4222</td>\n",
       "      <td>AC</td>\n",
       "      <td>[QUALITY]</td>\n",
       "      <td>[CSOP_ORDERABLE]</td>\n",
       "      <td>https://www.colruyt.be/nl/colruyt-openingsuren...</td>\n",
       "      <td>https://maps.apple.com/?daddr=50.9760369,4.811...</td>\n",
       "      <td>True</td>\n",
       "      <td>8</td>\n",
       "      <td>COLR_Colruyt</td>\n",
       "      <td>1</td>\n",
       "      <td>Winkel</td>\n",
       "      <td>Winkel</td>\n",
       "      <td>50.976037</td>\n",
       "      <td>4.811097</td>\n",
       "      <td>LEUVENSESTEENWEG</td>\n",
       "      <td>241</td>\n",
       "      <td>3200</td>\n",
       "      <td>AARSCHOT</td>\n",
       "      <td>België</td>\n",
       "    </tr>\n",
       "    <tr>\n",
       "      <th>886</th>\n",
       "      <td>ALSEMBERG (COLRUYT)</td>\n",
       "      <td>4138</td>\n",
       "      <td>AC</td>\n",
       "      <td>[QUALITY]</td>\n",
       "      <td>[CSOP_ORDERABLE]</td>\n",
       "      <td>https://www.colruyt.be/nl/colruyt-openingsuren...</td>\n",
       "      <td>https://maps.apple.com/?daddr=50.7415212,4.336719</td>\n",
       "      <td>True</td>\n",
       "      <td>8</td>\n",
       "      <td>COLR_Colruyt</td>\n",
       "      <td>1</td>\n",
       "      <td>Winkel</td>\n",
       "      <td>Winkel</td>\n",
       "      <td>50.741521</td>\n",
       "      <td>4.336719</td>\n",
       "      <td>BRUSSELSESTEENWEG</td>\n",
       "      <td>19</td>\n",
       "      <td>1652</td>\n",
       "      <td>ALSEMBERG</td>\n",
       "      <td>België</td>\n",
       "    </tr>\n",
       "    <tr>\n",
       "      <th>783</th>\n",
       "      <td>AMAY (COLRUYT)</td>\n",
       "      <td>3853</td>\n",
       "      <td>AC</td>\n",
       "      <td>[QUALITY]</td>\n",
       "      <td>[CSOP_ORDERABLE]</td>\n",
       "      <td>https://www.colruyt.be/nl/colruyt-openingsuren...</td>\n",
       "      <td>https://maps.apple.com/?daddr=50.5599284,5.306...</td>\n",
       "      <td>True</td>\n",
       "      <td>8</td>\n",
       "      <td>COLR_Colruyt</td>\n",
       "      <td>1</td>\n",
       "      <td>Winkel</td>\n",
       "      <td>Winkel</td>\n",
       "      <td>50.559928</td>\n",
       "      <td>5.306195</td>\n",
       "      <td>CHAUSSEE DE TONGRES</td>\n",
       "      <td>247</td>\n",
       "      <td>4540</td>\n",
       "      <td>AMAY</td>\n",
       "      <td>België</td>\n",
       "    </tr>\n",
       "  </tbody>\n",
       "</table>\n",
       "</div>"
      ],
      "text/plain": [
       "              commercialName branchId sourceStatus sellingPartners  \\\n",
       "placeId                                                              \n",
       "902          AALST (COLRUYT)     4156           AC       [QUALITY]   \n",
       "946         AALTER (COLRUYT)     4218           AC       [QUALITY]   \n",
       "950       AARSCHOT (COLRUYT)     4222           AC       [QUALITY]   \n",
       "886      ALSEMBERG (COLRUYT)     4138           AC       [QUALITY]   \n",
       "783           AMAY (COLRUYT)     3853           AC       [QUALITY]   \n",
       "\n",
       "         handoverServices                                        moreInfoUrl  \\\n",
       "placeId                                                                        \n",
       "902      [CSOP_ORDERABLE]  https://www.colruyt.be/nl/colruyt-openingsuren...   \n",
       "946      [CSOP_ORDERABLE]  https://www.colruyt.be/nl/colruyt-openingsuren...   \n",
       "950      [CSOP_ORDERABLE]  https://www.colruyt.be/nl/colruyt-openingsuren...   \n",
       "886      [CSOP_ORDERABLE]  https://www.colruyt.be/nl/colruyt-openingsuren...   \n",
       "783      [CSOP_ORDERABLE]  https://www.colruyt.be/nl/colruyt-openingsuren...   \n",
       "\n",
       "                                                  routeUrl  isActive  \\\n",
       "placeId                                                                \n",
       "902      https://maps.apple.com/?daddr=50.933074,4.0538972      True   \n",
       "946      https://maps.apple.com/?daddr=51.0784761,3.450...      True   \n",
       "950      https://maps.apple.com/?daddr=50.9760369,4.811...      True   \n",
       "886      https://maps.apple.com/?daddr=50.7415212,4.336719      True   \n",
       "783      https://maps.apple.com/?daddr=50.5599284,5.306...      True   \n",
       "\n",
       "         ensign.id   ensign.name  placeType.id placeType.longName  \\\n",
       "placeId                                                             \n",
       "902              8  COLR_Colruyt             1             Winkel   \n",
       "946              8  COLR_Colruyt             1             Winkel   \n",
       "950              8  COLR_Colruyt             1             Winkel   \n",
       "886              8  COLR_Colruyt             1             Winkel   \n",
       "783              8  COLR_Colruyt             1             Winkel   \n",
       "\n",
       "        placeType.placeTypeDescription  geoCoordinates.latitude  \\\n",
       "placeId                                                           \n",
       "902                             Winkel                50.933074   \n",
       "946                             Winkel                51.078476   \n",
       "950                             Winkel                50.976037   \n",
       "886                             Winkel                50.741521   \n",
       "783                             Winkel                50.559928   \n",
       "\n",
       "         geoCoordinates.longitude   address.streetName address.houseNumber  \\\n",
       "placeId                                                                      \n",
       "902                      4.053897   BRUSSELSE STEENWEG                  41   \n",
       "946                      3.450013             LOSTRAAT                  66   \n",
       "950                      4.811097     LEUVENSESTEENWEG                 241   \n",
       "886                      4.336719    BRUSSELSESTEENWEG                  19   \n",
       "783                      5.306195  CHAUSSEE DE TONGRES                 247   \n",
       "\n",
       "        address.postalcode address.cityName address.countryName  \n",
       "placeId                                                          \n",
       "902                   9300            AALST              België  \n",
       "946                   9880           AALTER              België  \n",
       "950                   3200         AARSCHOT              België  \n",
       "886                   1652        ALSEMBERG              België  \n",
       "783                   4540             AMAY              België  "
      ]
     },
     "execution_count": 116,
     "metadata": {},
     "output_type": "execute_result"
    }
   ],
   "source": [
    "df.head(5)"
   ]
  },
  {
   "cell_type": "code",
   "execution_count": 117,
   "metadata": {
    "Collapsed": "false"
   },
   "outputs": [
    {
     "data": {
      "text/html": [
       "<div>\n",
       "<style scoped>\n",
       "    .dataframe tbody tr th:only-of-type {\n",
       "        vertical-align: middle;\n",
       "    }\n",
       "\n",
       "    .dataframe tbody tr th {\n",
       "        vertical-align: top;\n",
       "    }\n",
       "\n",
       "    .dataframe thead th {\n",
       "        text-align: right;\n",
       "    }\n",
       "</style>\n",
       "<table border=\"1\" class=\"dataframe\">\n",
       "  <thead>\n",
       "    <tr style=\"text-align: right;\">\n",
       "      <th></th>\n",
       "      <th>commercialName</th>\n",
       "      <th>branchId</th>\n",
       "      <th>sourceStatus</th>\n",
       "      <th>sellingPartners</th>\n",
       "      <th>handoverServices</th>\n",
       "      <th>moreInfoUrl</th>\n",
       "      <th>routeUrl</th>\n",
       "      <th>isActive</th>\n",
       "      <th>ensign.id</th>\n",
       "      <th>ensign.name</th>\n",
       "      <th>placeType.id</th>\n",
       "      <th>placeType.longName</th>\n",
       "      <th>placeType.placeTypeDescription</th>\n",
       "      <th>geoCoordinates.latitude</th>\n",
       "      <th>geoCoordinates.longitude</th>\n",
       "      <th>address.streetName</th>\n",
       "      <th>address.houseNumber</th>\n",
       "      <th>address.postalcode</th>\n",
       "      <th>address.cityName</th>\n",
       "      <th>address.countryName</th>\n",
       "    </tr>\n",
       "    <tr>\n",
       "      <th>placeId</th>\n",
       "      <th></th>\n",
       "      <th></th>\n",
       "      <th></th>\n",
       "      <th></th>\n",
       "      <th></th>\n",
       "      <th></th>\n",
       "      <th></th>\n",
       "      <th></th>\n",
       "      <th></th>\n",
       "      <th></th>\n",
       "      <th></th>\n",
       "      <th></th>\n",
       "      <th></th>\n",
       "      <th></th>\n",
       "      <th></th>\n",
       "      <th></th>\n",
       "      <th></th>\n",
       "      <th></th>\n",
       "      <th></th>\n",
       "      <th></th>\n",
       "    </tr>\n",
       "  </thead>\n",
       "  <tbody>\n",
       "    <tr>\n",
       "      <th>902</th>\n",
       "      <td>AALST (COLRUYT)</td>\n",
       "      <td>4156</td>\n",
       "      <td>AC</td>\n",
       "      <td>[QUALITY]</td>\n",
       "      <td>[CSOP_ORDERABLE]</td>\n",
       "      <td>https://www.colruyt.be/nl/colruyt-openingsuren...</td>\n",
       "      <td>https://maps.apple.com/?daddr=50.933074,4.0538972</td>\n",
       "      <td>True</td>\n",
       "      <td>8</td>\n",
       "      <td>COLR_Colruyt</td>\n",
       "      <td>1</td>\n",
       "      <td>Winkel</td>\n",
       "      <td>Winkel</td>\n",
       "      <td>50.933074</td>\n",
       "      <td>4.053897</td>\n",
       "      <td>BRUSSELSE STEENWEG</td>\n",
       "      <td>41</td>\n",
       "      <td>9300</td>\n",
       "      <td>AALST</td>\n",
       "      <td>België</td>\n",
       "    </tr>\n",
       "    <tr>\n",
       "      <th>946</th>\n",
       "      <td>AALTER (COLRUYT)</td>\n",
       "      <td>4218</td>\n",
       "      <td>AC</td>\n",
       "      <td>[QUALITY]</td>\n",
       "      <td>[CSOP_ORDERABLE]</td>\n",
       "      <td>https://www.colruyt.be/nl/colruyt-openingsuren...</td>\n",
       "      <td>https://maps.apple.com/?daddr=51.0784761,3.450...</td>\n",
       "      <td>True</td>\n",
       "      <td>8</td>\n",
       "      <td>COLR_Colruyt</td>\n",
       "      <td>1</td>\n",
       "      <td>Winkel</td>\n",
       "      <td>Winkel</td>\n",
       "      <td>51.078476</td>\n",
       "      <td>3.450013</td>\n",
       "      <td>LOSTRAAT</td>\n",
       "      <td>66</td>\n",
       "      <td>9880</td>\n",
       "      <td>AALTER</td>\n",
       "      <td>België</td>\n",
       "    </tr>\n",
       "    <tr>\n",
       "      <th>950</th>\n",
       "      <td>AARSCHOT (COLRUYT)</td>\n",
       "      <td>4222</td>\n",
       "      <td>AC</td>\n",
       "      <td>[QUALITY]</td>\n",
       "      <td>[CSOP_ORDERABLE]</td>\n",
       "      <td>https://www.colruyt.be/nl/colruyt-openingsuren...</td>\n",
       "      <td>https://maps.apple.com/?daddr=50.9760369,4.811...</td>\n",
       "      <td>True</td>\n",
       "      <td>8</td>\n",
       "      <td>COLR_Colruyt</td>\n",
       "      <td>1</td>\n",
       "      <td>Winkel</td>\n",
       "      <td>Winkel</td>\n",
       "      <td>50.976037</td>\n",
       "      <td>4.811097</td>\n",
       "      <td>LEUVENSESTEENWEG</td>\n",
       "      <td>241</td>\n",
       "      <td>3200</td>\n",
       "      <td>AARSCHOT</td>\n",
       "      <td>België</td>\n",
       "    </tr>\n",
       "    <tr>\n",
       "      <th>886</th>\n",
       "      <td>ALSEMBERG (COLRUYT)</td>\n",
       "      <td>4138</td>\n",
       "      <td>AC</td>\n",
       "      <td>[QUALITY]</td>\n",
       "      <td>[CSOP_ORDERABLE]</td>\n",
       "      <td>https://www.colruyt.be/nl/colruyt-openingsuren...</td>\n",
       "      <td>https://maps.apple.com/?daddr=50.7415212,4.336719</td>\n",
       "      <td>True</td>\n",
       "      <td>8</td>\n",
       "      <td>COLR_Colruyt</td>\n",
       "      <td>1</td>\n",
       "      <td>Winkel</td>\n",
       "      <td>Winkel</td>\n",
       "      <td>50.741521</td>\n",
       "      <td>4.336719</td>\n",
       "      <td>BRUSSELSESTEENWEG</td>\n",
       "      <td>19</td>\n",
       "      <td>1652</td>\n",
       "      <td>ALSEMBERG</td>\n",
       "      <td>België</td>\n",
       "    </tr>\n",
       "    <tr>\n",
       "      <th>783</th>\n",
       "      <td>AMAY (COLRUYT)</td>\n",
       "      <td>3853</td>\n",
       "      <td>AC</td>\n",
       "      <td>[QUALITY]</td>\n",
       "      <td>[CSOP_ORDERABLE]</td>\n",
       "      <td>https://www.colruyt.be/nl/colruyt-openingsuren...</td>\n",
       "      <td>https://maps.apple.com/?daddr=50.5599284,5.306...</td>\n",
       "      <td>True</td>\n",
       "      <td>8</td>\n",
       "      <td>COLR_Colruyt</td>\n",
       "      <td>1</td>\n",
       "      <td>Winkel</td>\n",
       "      <td>Winkel</td>\n",
       "      <td>50.559928</td>\n",
       "      <td>5.306195</td>\n",
       "      <td>CHAUSSEE DE TONGRES</td>\n",
       "      <td>247</td>\n",
       "      <td>4540</td>\n",
       "      <td>AMAY</td>\n",
       "      <td>België</td>\n",
       "    </tr>\n",
       "  </tbody>\n",
       "</table>\n",
       "</div>"
      ],
      "text/plain": [
       "              commercialName branchId sourceStatus sellingPartners  \\\n",
       "placeId                                                              \n",
       "902          AALST (COLRUYT)     4156           AC       [QUALITY]   \n",
       "946         AALTER (COLRUYT)     4218           AC       [QUALITY]   \n",
       "950       AARSCHOT (COLRUYT)     4222           AC       [QUALITY]   \n",
       "886      ALSEMBERG (COLRUYT)     4138           AC       [QUALITY]   \n",
       "783           AMAY (COLRUYT)     3853           AC       [QUALITY]   \n",
       "\n",
       "         handoverServices                                        moreInfoUrl  \\\n",
       "placeId                                                                        \n",
       "902      [CSOP_ORDERABLE]  https://www.colruyt.be/nl/colruyt-openingsuren...   \n",
       "946      [CSOP_ORDERABLE]  https://www.colruyt.be/nl/colruyt-openingsuren...   \n",
       "950      [CSOP_ORDERABLE]  https://www.colruyt.be/nl/colruyt-openingsuren...   \n",
       "886      [CSOP_ORDERABLE]  https://www.colruyt.be/nl/colruyt-openingsuren...   \n",
       "783      [CSOP_ORDERABLE]  https://www.colruyt.be/nl/colruyt-openingsuren...   \n",
       "\n",
       "                                                  routeUrl  isActive  \\\n",
       "placeId                                                                \n",
       "902      https://maps.apple.com/?daddr=50.933074,4.0538972      True   \n",
       "946      https://maps.apple.com/?daddr=51.0784761,3.450...      True   \n",
       "950      https://maps.apple.com/?daddr=50.9760369,4.811...      True   \n",
       "886      https://maps.apple.com/?daddr=50.7415212,4.336719      True   \n",
       "783      https://maps.apple.com/?daddr=50.5599284,5.306...      True   \n",
       "\n",
       "         ensign.id   ensign.name  placeType.id placeType.longName  \\\n",
       "placeId                                                             \n",
       "902              8  COLR_Colruyt             1             Winkel   \n",
       "946              8  COLR_Colruyt             1             Winkel   \n",
       "950              8  COLR_Colruyt             1             Winkel   \n",
       "886              8  COLR_Colruyt             1             Winkel   \n",
       "783              8  COLR_Colruyt             1             Winkel   \n",
       "\n",
       "        placeType.placeTypeDescription  geoCoordinates.latitude  \\\n",
       "placeId                                                           \n",
       "902                             Winkel                50.933074   \n",
       "946                             Winkel                51.078476   \n",
       "950                             Winkel                50.976037   \n",
       "886                             Winkel                50.741521   \n",
       "783                             Winkel                50.559928   \n",
       "\n",
       "         geoCoordinates.longitude   address.streetName address.houseNumber  \\\n",
       "placeId                                                                      \n",
       "902                      4.053897   BRUSSELSE STEENWEG                  41   \n",
       "946                      3.450013             LOSTRAAT                  66   \n",
       "950                      4.811097     LEUVENSESTEENWEG                 241   \n",
       "886                      4.336719    BRUSSELSESTEENWEG                  19   \n",
       "783                      5.306195  CHAUSSEE DE TONGRES                 247   \n",
       "\n",
       "        address.postalcode address.cityName address.countryName  \n",
       "placeId                                                          \n",
       "902                   9300            AALST              België  \n",
       "946                   9880           AALTER              België  \n",
       "950                   3200         AARSCHOT              België  \n",
       "886                   1652        ALSEMBERG              België  \n",
       "783                   4540             AMAY              België  "
      ]
     },
     "execution_count": 117,
     "metadata": {},
     "output_type": "execute_result"
    }
   ],
   "source": [
    "def get_clp_places(url):\n",
    "    resp = requests.get(url)\n",
    "    d = resp.json()\n",
    "    df = json_normalize(data=d, sep=\".\")\n",
    "    df.set_index('placeId', drop=True, inplace=True)\n",
    "    # optimize memory-usage by changing dtypes\n",
    "    # memory is not an issue, changing dtypes is not yet required\n",
    "    return df\n",
    "\n",
    "url = \"https://ecgplacesmw.colruytgroup.com/ecgplacesmw/v3/nl/places/filter/clp-places\"\n",
    "df_clp = get_clp_places(url)\n",
    "df_clp.head(5)"
   ]
  },
  {
   "cell_type": "markdown",
   "metadata": {
    "Collapsed": "false"
   },
   "source": [
    "### Quality checks\n",
    "\n",
    "We would like you to add several checks on this data based on these constraints:  \n",
    " * records > 200\n",
    " * latitude between 49 and 52\n",
    " * longitude between 2 and 7\n",
    " \n",
    "We dont want you to create a full blown test suite here, we're just gonna use 'asserts' from unittest"
   ]
  },
  {
   "cell_type": "code",
   "execution_count": 118,
   "metadata": {
    "Collapsed": "false"
   },
   "outputs": [],
   "source": [
    "records_min = 200\n",
    "latitude_min = 49\n",
    "latitude_max = 52\n",
    "longitude_min = 2\n",
    "longitude_max = 7\n",
    "tc = unittest.TestCase('__init__')\n",
    "\n",
    "# check records len\n",
    "tc.assertTrue(len(df_clp.index) > records_min, f\"less than {records_min} records\" )\n",
    "\n",
    "def test_range(test_name, series, range_min=None, range_max=None):\n",
    "    tc.assertTrue(series.min() > range_min, f\"{test_name} ({series.min()}) < minimum({range_min})\")\n",
    "    tc.assertTrue(series.max() < range_max, f\"{test_name} ({series.max()}) > maximum({range_max})\")\n",
    "\n",
    "# check latitude range\n",
    "test_range(test_name=\"latitude\", \n",
    "           series=df_clp['geoCoordinates.latitude'], \n",
    "           range_min=latitude_min, \n",
    "           range_max=latitude_max\n",
    "          )\n",
    "\n",
    "# check longitude range\n",
    "test_range(test_name=\"longitude\", \n",
    "           series=df_clp['geoCoordinates.longitude'], \n",
    "           range_min=longitude_min, \n",
    "           range_max=longitude_max\n",
    "          )\n",
    "\n",
    "# improvement, return the placeId on a False\n",
    "\n"
   ]
  },
  {
   "cell_type": "markdown",
   "metadata": {
    "Collapsed": "false"
   },
   "source": [
    "### Feature creation\n",
    "\n",
    "Create a new column \"antwerpen\" which is 1 for all stores in Antwerpen (province) and 0 for all others "
   ]
  },
  {
   "cell_type": "code",
   "execution_count": 119,
   "metadata": {
    "Collapsed": "false"
   },
   "outputs": [
    {
     "data": {
      "text/plain": [
       "0    216\n",
       "1     35\n",
       "Name: antwerpen, dtype: int64"
      ]
     },
     "execution_count": 119,
     "metadata": {},
     "output_type": "execute_result"
    }
   ],
   "source": [
    "# Should a selection be done on 'placeType.longName'?\n",
    "# df_clp['placeType.longName'].unique()\n",
    "# No, the places are all \"winkel\"\n",
    "# What is the province field?\n",
    "# a province field does not exist!? \n",
    "# Use the postcode to check for the province?\n",
    "# on wikipedia https://www.wikiwand.com/en/List_of_postal_codes_in_Belgium -> Antwerp postcodes: 2000-2999\n",
    "\n",
    "df_clp['address.postalcode'] = df_clp['address.postalcode'].astype('int32')\n",
    "df_clp[\"antwerpen\"] = np.where( (df_clp['address.postalcode'] >= 2000) & (df_clp['address.postalcode'] <= 2999) , 1, 0)\n",
    "\n",
    "# use an api to get provinces? could be slow\n",
    "\n",
    "df_clp[\"antwerpen\"].value_counts()"
   ]
  },
  {
   "cell_type": "markdown",
   "metadata": {
    "Collapsed": "false"
   },
   "source": [
    "## Predict used car value\n",
    "\n",
    "A datascientist in our team made a basic model to predict car prices.  \n",
    "The model was saved to disk ('lgbr_cars.model') using joblib's dump fuctionality.  \n",
    "Documentation states the model is a LightGBM Regressor, trained using the sk-learn api.  \n",
    "\n",
    "**As engineer, your task it to expose this model as REST-api.** \n",
    "\n",
    "First, retrieve the model via the function below.  \n",
    "Change the path according to your setup.  "
   ]
  },
  {
   "cell_type": "code",
   "execution_count": 120,
   "metadata": {
    "Collapsed": "false"
   },
   "outputs": [],
   "source": [
    "def retrieve_model(path):\n",
    "    trained_model = joblib.load(path)\n",
    "    return trained_model\n",
    "\n",
    "lgbr_cars = retrieve_model(\"lgbr_cars.model\")\n",
    "\n",
    "tc = unittest.TestCase('__init__')\n",
    "tc.assertEqual(str(type(lgbr_cars)),\"<class 'lightgbm.sklearn.LGBMRegressor'>\", type(lgbr_cars))"
   ]
  },
  {
   "cell_type": "markdown",
   "metadata": {
    "Collapsed": "false"
   },
   "source": [
    "Now you have your trained model, lets do a functional test based on the parameters below.  \n",
    "You have to present the parameters in this order.  \n",
    "\n",
    "* vehicleType: coupe\n",
    "* gearbox: manuell\n",
    "* powerPS: 190\n",
    "* model: NaN\n",
    "* kilometer: 125000\n",
    "* monthOfRegistration: 5 \n",
    "* fuelType: diesel\n",
    "* brand: audi\n",
    "\n",
    "Based on these parameters, you should get a predicted value of 14026.35068804\n",
    "However, the model doesnt accept string inputs, see the integer encoding below:"
   ]
  },
  {
   "cell_type": "code",
   "execution_count": 4,
   "metadata": {
    "Collapsed": "false"
   },
   "outputs": [],
   "source": [
    "model_test_input = [[3,1,190,-1,125000,5,3,1]]"
   ]
  },
  {
   "cell_type": "code",
   "execution_count": 5,
   "metadata": {
    "Collapsed": "false"
   },
   "outputs": [],
   "source": [
    "def make_prediction(trained_model, single_input):\n",
    "    predicted_value = trained_model.predict(single_input)[0]  \n",
    "    return predicted_value\n",
    "\n",
    "predicted_value = make_prediction(lgbr_cars, model_test_input)\n",
    "\n",
    "tc.assertAlmostEqual(predicted_value, 14026.35, places=2)"
   ]
  },
  {
   "cell_type": "code",
   "execution_count": null,
   "metadata": {
    "Collapsed": "false"
   },
   "outputs": [],
   "source": []
  },
  {
   "cell_type": "markdown",
   "metadata": {
    "Collapsed": "false"
   },
   "source": [
    "Now you got this model up and running, we want you to **expose it as a rest api.**  \n",
    "We don't expect you to set up any authentication.  \n",
    "We're not looking for beautiful inputs, just make it work.  \n",
    "**Building this endpoint should NOT be done in a notebook, but in proper .py file(s)**\n",
    "\n",
    "Once its up and running, use it to predict the following input:\n",
    "* [-1,1,0,118,150000,0,1,38] ==> prediction should be 13920.70"
   ]
  },
  {
   "cell_type": "code",
   "execution_count": 24,
   "metadata": {
    "Collapsed": "false"
   },
   "outputs": [
    {
     "name": "stdout",
     "output_type": "stream",
     "text": [
      "{'car_price_prediction': 13920.704635637961}\n"
     ]
    }
   ],
   "source": [
    "# Run the API using python app.py\n",
    "# Test REST api using postman, curl or the code below\n",
    "\n",
    "url = 'http://127.0.0.2:5000/predict'\n",
    "data = { \"single_input\": [-1,1,0,118,150000,0,1,38] }\n",
    "j_data = json.dumps(data)\n",
    "headers = {'content-type': 'application/json', 'Accept-Charset': 'UTF-8'}\n",
    "r = requests.post(url, data=j_data, headers=headers)\n",
    "# print(r)\n",
    "print(r.json())\n"
   ]
  },
  {
   "cell_type": "markdown",
   "metadata": {
    "Collapsed": "false"
   },
   "source": [
    "## Geospatial data exercise\n",
    "The goal of this exercise is to read in some data from a shape file and visualize it on a map\n",
    "- The map should be dynamic. I want to zoom in and out to see more interesting aspects of the map\n",
    "- We want you to visualize the statistical sectors within a distance of 2KM of your home location.\n",
    "\n",
    "Specific steps to take:\n",
    "- Read in the shape file\n",
    "- Transform to WGS coordinates\n",
    "- Create a distance function (Haversine)\n",
    "- Create variables for home_lat, home_lon and perimeter_distance\n",
    "- Calculate centroid for each nis district\n",
    "- Calculate the distance to home for each nis district centroid \n",
    "- Figure out which nis districts are near your home\n",
    "- Create dynamic zoomable map\n",
    "- Visualize the nis districts near you (centroid <2km away), on the map\n"
   ]
  },
  {
   "cell_type": "code",
   "execution_count": 138,
   "metadata": {
    "Collapsed": "false"
   },
   "outputs": [],
   "source": [
    "# Some imports to help you along the way\n",
    "import geopandas as gpd\n",
    "import folium # you can use any viz library you prefer\n"
   ]
  },
  {
   "cell_type": "code",
   "execution_count": 139,
   "metadata": {
    "Collapsed": "false"
   },
   "outputs": [],
   "source": [
    "# part 1: Reading in the data\n",
    "# get this file from https://ac.ngi.be/remoteclient-open/SDI/NGI-IGN/fb1e2993-2020-428c-9188-eb5f75e284b9_x-shapefile_31370.zip \n",
    "# or click through on https://data.gov.be/nl/node/41178\n",
    "gdf = gpd.read_file('./_data/adminvector72/AD_0_StatisticSector.shp')\n",
    "# Convert the GeoDataFrame to WGS84 coordinate reference system\n",
    "gdf = gdf.to_crs({'init': 'epsg:4326'}) # change projection to wgs84"
   ]
  },
  {
   "cell_type": "markdown",
   "metadata": {
    "Collapsed": "false",
    "jupyter": {
     "source_hidden": true
    }
   },
   "source": [
    "One of the data scientists discovered stackoverflow ;-) and copypasted something from https://gis.stackexchange.com/questions/166820/geopandas-return-lat-and-long-of-a-centroid-point\n",
    "A data science engineer should be able to speed this next code up\n",
    "\n",
    "```python\n",
    "for i in range(0, len(df)):\n",
    "    df.loc[i,'centroid_lon'] = df.geometry.centroid.x.iloc[i]\n",
    "    df.loc[i,'centroid_lat'] = df.geometry.centroid.y.iloc[i]\n",
    "```\n",
    "Do not run the code as-is is runs for more than 5min."
   ]
  },
  {
   "cell_type": "code",
   "execution_count": 140,
   "metadata": {
    "Collapsed": "false",
    "collapsed": true,
    "jupyter": {
     "outputs_hidden": true
    }
   },
   "outputs": [
    {
     "name": "stdout",
     "output_type": "stream",
     "text": [
      "Wall time: 2.02 ms\n"
     ]
    },
    {
     "data": {
      "text/html": [
       "<div>\n",
       "<style scoped>\n",
       "    .dataframe tbody tr th:only-of-type {\n",
       "        vertical-align: middle;\n",
       "    }\n",
       "\n",
       "    .dataframe tbody tr th {\n",
       "        vertical-align: top;\n",
       "    }\n",
       "\n",
       "    .dataframe thead th {\n",
       "        text-align: right;\n",
       "    }\n",
       "</style>\n",
       "<table border=\"1\" class=\"dataframe\">\n",
       "  <thead>\n",
       "    <tr style=\"text-align: right;\">\n",
       "      <th></th>\n",
       "      <th>tgid</th>\n",
       "      <th>NISCode</th>\n",
       "      <th>ModifDate</th>\n",
       "      <th>Shape_Leng</th>\n",
       "      <th>Shape_Area</th>\n",
       "      <th>geometry</th>\n",
       "    </tr>\n",
       "  </thead>\n",
       "  <tbody>\n",
       "    <tr>\n",
       "      <th>0</th>\n",
       "      <td>{E06A6F81-19B0-4828-A47F-8955CCADA59A}</td>\n",
       "      <td>38016X0JQ</td>\n",
       "      <td>2019-10-30</td>\n",
       "      <td>4350.686986</td>\n",
       "      <td>912805.474484</td>\n",
       "      <td>POLYGON Z ((2.71622 51.15613 0.00000, 2.71707 ...</td>\n",
       "    </tr>\n",
       "  </tbody>\n",
       "</table>\n",
       "</div>"
      ],
      "text/plain": [
       "                                     tgid    NISCode   ModifDate   Shape_Leng  \\\n",
       "0  {E06A6F81-19B0-4828-A47F-8955CCADA59A}  38016X0JQ  2019-10-30  4350.686986   \n",
       "\n",
       "      Shape_Area                                           geometry  \n",
       "0  912805.474484  POLYGON Z ((2.71622 51.15613 0.00000, 2.71707 ...  "
      ]
     },
     "execution_count": 140,
     "metadata": {},
     "output_type": "execute_result"
    }
   ],
   "source": [
    "%%time\n",
    "gdf.shape\n",
    "gdf.head(1)"
   ]
  },
  {
   "cell_type": "code",
   "execution_count": 142,
   "metadata": {
    "Collapsed": "false",
    "collapsed": true,
    "jupyter": {
     "outputs_hidden": true
    }
   },
   "outputs": [
    {
     "name": "stdout",
     "output_type": "stream",
     "text": [
      "Wall time: 1.95 s\n"
     ]
    },
    {
     "data": {
      "text/html": [
       "<div>\n",
       "<style scoped>\n",
       "    .dataframe tbody tr th:only-of-type {\n",
       "        vertical-align: middle;\n",
       "    }\n",
       "\n",
       "    .dataframe tbody tr th {\n",
       "        vertical-align: top;\n",
       "    }\n",
       "\n",
       "    .dataframe thead th {\n",
       "        text-align: right;\n",
       "    }\n",
       "</style>\n",
       "<table border=\"1\" class=\"dataframe\">\n",
       "  <thead>\n",
       "    <tr style=\"text-align: right;\">\n",
       "      <th></th>\n",
       "      <th>tgid</th>\n",
       "      <th>NISCode</th>\n",
       "      <th>ModifDate</th>\n",
       "      <th>Shape_Leng</th>\n",
       "      <th>Shape_Area</th>\n",
       "      <th>geometry</th>\n",
       "      <th>centroid_lon</th>\n",
       "      <th>centroid_lat</th>\n",
       "    </tr>\n",
       "  </thead>\n",
       "  <tbody>\n",
       "    <tr>\n",
       "      <th>0</th>\n",
       "      <td>{E06A6F81-19B0-4828-A47F-8955CCADA59A}</td>\n",
       "      <td>38016X0JQ</td>\n",
       "      <td>2019-10-30</td>\n",
       "      <td>4350.686986</td>\n",
       "      <td>9.128055e+05</td>\n",
       "      <td>POLYGON Z ((2.71622 51.15613 0.00000, 2.71707 ...</td>\n",
       "      <td>2.709342</td>\n",
       "      <td>51.150769</td>\n",
       "    </tr>\n",
       "    <tr>\n",
       "      <th>1</th>\n",
       "      <td>{44CDC0F6-ED48-43E8-ABC2-69F5B1B7D734}</td>\n",
       "      <td>24094B09-</td>\n",
       "      <td>2019-10-30</td>\n",
       "      <td>24003.624570</td>\n",
       "      <td>4.213636e+06</td>\n",
       "      <td>POLYGON Z ((4.72660 50.98505 0.00000, 4.72696 ...</td>\n",
       "      <td>4.730839</td>\n",
       "      <td>50.977419</td>\n",
       "    </tr>\n",
       "    <tr>\n",
       "      <th>2</th>\n",
       "      <td>{7D81EA40-A405-4F74-B4BA-C98FA411CC29}</td>\n",
       "      <td>21001A53-</td>\n",
       "      <td>2019-10-30</td>\n",
       "      <td>1215.764322</td>\n",
       "      <td>8.969256e+04</td>\n",
       "      <td>POLYGON Z ((4.29324 50.83340 0.00000, 4.29337 ...</td>\n",
       "      <td>4.292727</td>\n",
       "      <td>50.831438</td>\n",
       "    </tr>\n",
       "  </tbody>\n",
       "</table>\n",
       "</div>"
      ],
      "text/plain": [
       "                                     tgid    NISCode   ModifDate  \\\n",
       "0  {E06A6F81-19B0-4828-A47F-8955CCADA59A}  38016X0JQ  2019-10-30   \n",
       "1  {44CDC0F6-ED48-43E8-ABC2-69F5B1B7D734}  24094B09-  2019-10-30   \n",
       "2  {7D81EA40-A405-4F74-B4BA-C98FA411CC29}  21001A53-  2019-10-30   \n",
       "\n",
       "     Shape_Leng    Shape_Area  \\\n",
       "0   4350.686986  9.128055e+05   \n",
       "1  24003.624570  4.213636e+06   \n",
       "2   1215.764322  8.969256e+04   \n",
       "\n",
       "                                            geometry  centroid_lon  \\\n",
       "0  POLYGON Z ((2.71622 51.15613 0.00000, 2.71707 ...      2.709342   \n",
       "1  POLYGON Z ((4.72660 50.98505 0.00000, 4.72696 ...      4.730839   \n",
       "2  POLYGON Z ((4.29324 50.83340 0.00000, 4.29337 ...      4.292727   \n",
       "\n",
       "   centroid_lat  \n",
       "0     51.150769  \n",
       "1     50.977419  \n",
       "2     50.831438  "
      ]
     },
     "execution_count": 142,
     "metadata": {},
     "output_type": "execute_result"
    }
   ],
   "source": [
    "%%time\n",
    "# df.geometry.centroid.x.iloc[1] returns 4.730839019187626\n",
    "gdf['centroid_lon'] = gdf.geometry.centroid.x\n",
    "gdf['centroid_lat'] = gdf.geometry.centroid.y\n",
    "gdf.head(3)"
   ]
  },
  {
   "cell_type": "markdown",
   "metadata": {
    "Collapsed": "false"
   },
   "source": [
    "### Haversine formula - distance function\n",
    "At some point we will need a distance function (google the Haversine formula, and implement it)\n",
    "Haversine info:\n",
    "https://www.wikiwand.com/en/Haversine_formula  \n",
    "![](https://wikimedia.org/api/rest_v1/media/math/render/svg/a65dbbde43ff45bacd2505fcf32b44fc7dcd8cc0)  \n",
    "φ1, φ2: latitude of point 1 and latitude of point 2 (in radians),  \n",
    "λ1, λ2: longitude of point 1 and longitude of point 2 (in radians).  \n",
    "d is the distance between the two points along a great circle of the sphere  \n",
    "r is the radius of the sphere.  \n",
    "Because im lazy/efficient I also looked at https://github.com/mapado/haversine/blob/master/haversine/haversine.py"
   ]
  },
  {
   "cell_type": "code",
   "execution_count": 143,
   "metadata": {
    "Collapsed": "false",
    "jupyter": {
     "source_hidden": true
    }
   },
   "outputs": [],
   "source": [
    "from math import radians, cos, sin, asin, sqrt\n",
    "\n",
    "_AVG_EARTH_RADIUS_KM = 6371.0088\n",
    "\n",
    "def haversine(lat1, lon1, lat2, lon2):\n",
    "    \"\"\" Calculate the great-circle distance (in km) between two points on the Earth surface.\n",
    "    Takes the latitude and longitude of each point in decimal degrees.\n",
    "    :param lat1: latitude of first point in decimal degrees\n",
    "    :param lon1: longitude of first point in decimal degrees\n",
    "    :param lat2: latitude of second point in decimal degrees\n",
    "    :param lon2: longitude of second point in decimal degrees\n",
    "    Example: ``haversine(45.7597, 4.8422, 48.8567, 2.3508)``\n",
    "    :return: the distance between the two points in km, as a float.\n",
    "    \"\"\"\n",
    "    # get earth radius in required units\n",
    "    \n",
    "    avg_earth_radius = _AVG_EARTH_RADIUS_KM\n",
    "    \n",
    "    lng1 = lon1\n",
    "    lng2 = lon2\n",
    "    \n",
    "    # convert all latitudes/longitudes from decimal degrees to radians\n",
    "    lat1, lng1, lat2, lng2 = map(radians, (lat1, lng1, lat2, lng2))\n",
    "\n",
    "    # calculate d ( the distance between 2 points on a sphere, with the path following the curve of the sphere)\n",
    "    lat = lat2 - lat1\n",
    "    lng = lng2 - lng1\n",
    "    \n",
    "    func = sin(lat * 0.5) ** 2 + cos(lat1) * cos(lat2) * sin(lng * 0.5) ** 2\n",
    "    d = 2 * avg_earth_radius * asin(sqrt(func))\n",
    "    \n",
    "    return d\n"
   ]
  },
  {
   "cell_type": "markdown",
   "metadata": {
    "Collapsed": "false"
   },
   "source": [
    "Next, implement some sanity checks for your distance function "
   ]
  },
  {
   "cell_type": "code",
   "execution_count": 144,
   "metadata": {
    "Collapsed": "false",
    "jupyter": {
     "source_hidden": true
    }
   },
   "outputs": [],
   "source": [
    "# implement sanity checks here\n",
    "# latitude range 0 - 90\n",
    "# longitude range 0 - 180\n",
    "\n",
    "lat1 = 75.6\n",
    "lon1 = 170\n",
    "lat2 = 10\n",
    "lon2 = 10\n",
    "\n",
    "# The distance should always be smaller than half the circumference of the world\n",
    "tc = unittest.TestCase('__init__')\n",
    "import math\n",
    "half_earth_circumference = 2*math.pi*_AVG_EARTH_RADIUS_KM/2\n",
    "tc.assertTrue(haversine(lat1, lon1, lat2, lon2) < half_earth_circumference, f\" great-circle distance between 2 points is bigger than half_earth_circumference\" )\n",
    "tc.assertTrue(haversine(lat1, lon1, lat2, lon2) > 0, f\" great-circle distance is negative\" )\n",
    "\n",
    "# half_earth_circumference\n",
    "# haversine(lat1, lon1, lat2, lon2)"
   ]
  },
  {
   "cell_type": "code",
   "execution_count": 145,
   "metadata": {
    "Collapsed": "false"
   },
   "outputs": [],
   "source": [
    "# Let's create some variables to indicate the location of your interest\n",
    "# Data points from GoogleMaps URL\n",
    "home_lat = 50.863612\n",
    "home_lon = 4.6939564\n",
    "perimeter_distance = 2 # km"
   ]
  },
  {
   "cell_type": "code",
   "execution_count": 159,
   "metadata": {
    "Collapsed": "false"
   },
   "outputs": [
    {
     "data": {
      "text/html": [
       "<div>\n",
       "<style scoped>\n",
       "    .dataframe tbody tr th:only-of-type {\n",
       "        vertical-align: middle;\n",
       "    }\n",
       "\n",
       "    .dataframe tbody tr th {\n",
       "        vertical-align: top;\n",
       "    }\n",
       "\n",
       "    .dataframe thead th {\n",
       "        text-align: right;\n",
       "    }\n",
       "</style>\n",
       "<table border=\"1\" class=\"dataframe\">\n",
       "  <thead>\n",
       "    <tr style=\"text-align: right;\">\n",
       "      <th></th>\n",
       "      <th>store</th>\n",
       "      <th>lat</th>\n",
       "      <th>lon</th>\n",
       "      <th>address.streetName</th>\n",
       "      <th>address.houseNumber</th>\n",
       "      <th>address.postalcode</th>\n",
       "      <th>address.cityName</th>\n",
       "      <th>address.countryName</th>\n",
       "      <th>moreInfoUrl</th>\n",
       "      <th>distance</th>\n",
       "    </tr>\n",
       "    <tr>\n",
       "      <th>placeId</th>\n",
       "      <th></th>\n",
       "      <th></th>\n",
       "      <th></th>\n",
       "      <th></th>\n",
       "      <th></th>\n",
       "      <th></th>\n",
       "      <th></th>\n",
       "      <th></th>\n",
       "      <th></th>\n",
       "      <th></th>\n",
       "    </tr>\n",
       "  </thead>\n",
       "  <tbody>\n",
       "    <tr>\n",
       "      <th>605</th>\n",
       "      <td>HEVERLEE (COLRUYT)</td>\n",
       "      <td>50.871560</td>\n",
       "      <td>4.684463</td>\n",
       "      <td>GROENVELDSTRAAT</td>\n",
       "      <td>71</td>\n",
       "      <td>3001</td>\n",
       "      <td>HEVERLEE</td>\n",
       "      <td>België</td>\n",
       "      <td>https://www.colruyt.be/nl/colruyt-openingsuren...</td>\n",
       "      <td>1.106735</td>\n",
       "    </tr>\n",
       "    <tr>\n",
       "      <th>684</th>\n",
       "      <td>LEUVEN (COLRUYT)</td>\n",
       "      <td>50.884092</td>\n",
       "      <td>4.701339</td>\n",
       "      <td>LOMBAARDENSTRAAT</td>\n",
       "      <td>2</td>\n",
       "      <td>3000</td>\n",
       "      <td>LEUVEN</td>\n",
       "      <td>België</td>\n",
       "      <td>https://www.colruyt.be/nl/colruyt-openingsuren...</td>\n",
       "      <td>2.335464</td>\n",
       "    </tr>\n",
       "    <tr>\n",
       "      <th>440</th>\n",
       "      <td>KESSEL-LO (COLRUYT)</td>\n",
       "      <td>50.870874</td>\n",
       "      <td>4.726720</td>\n",
       "      <td>TIENSESTEENWEG</td>\n",
       "      <td>237</td>\n",
       "      <td>3010</td>\n",
       "      <td>KESSEL-LO</td>\n",
       "      <td>België</td>\n",
       "      <td>https://www.colruyt.be/nl/colruyt-openingsuren...</td>\n",
       "      <td>2.436959</td>\n",
       "    </tr>\n",
       "    <tr>\n",
       "      <th>618</th>\n",
       "      <td>NOSSEGEM (COLRUYT)</td>\n",
       "      <td>50.877944</td>\n",
       "      <td>4.512129</td>\n",
       "      <td>VOSKAPELLELAAN</td>\n",
       "      <td>11</td>\n",
       "      <td>1930</td>\n",
       "      <td>NOSSEGEM</td>\n",
       "      <td>België</td>\n",
       "      <td>https://www.colruyt.be/nl/colruyt-openingsuren...</td>\n",
       "      <td>12.858319</td>\n",
       "    </tr>\n",
       "    <tr>\n",
       "      <th>868</th>\n",
       "      <td>HAACHT (COLRUYT)</td>\n",
       "      <td>50.973273</td>\n",
       "      <td>4.626283</td>\n",
       "      <td>STATIONSSTRAAT</td>\n",
       "      <td>113</td>\n",
       "      <td>3150</td>\n",
       "      <td>HAACHT</td>\n",
       "      <td>België</td>\n",
       "      <td>https://www.colruyt.be/nl/colruyt-openingsuren...</td>\n",
       "      <td>13.084022</td>\n",
       "    </tr>\n",
       "  </tbody>\n",
       "</table>\n",
       "</div>"
      ],
      "text/plain": [
       "                       store        lat       lon address.streetName  \\\n",
       "placeId                                                                \n",
       "605       HEVERLEE (COLRUYT)  50.871560  4.684463    GROENVELDSTRAAT   \n",
       "684         LEUVEN (COLRUYT)  50.884092  4.701339   LOMBAARDENSTRAAT   \n",
       "440      KESSEL-LO (COLRUYT)  50.870874  4.726720     TIENSESTEENWEG   \n",
       "618       NOSSEGEM (COLRUYT)  50.877944  4.512129     VOSKAPELLELAAN   \n",
       "868         HAACHT (COLRUYT)  50.973273  4.626283     STATIONSSTRAAT   \n",
       "\n",
       "        address.houseNumber  address.postalcode address.cityName  \\\n",
       "placeId                                                            \n",
       "605                      71                3001         HEVERLEE   \n",
       "684                       2                3000           LEUVEN   \n",
       "440                     237                3010        KESSEL-LO   \n",
       "618                      11                1930         NOSSEGEM   \n",
       "868                     113                3150           HAACHT   \n",
       "\n",
       "        address.countryName  \\\n",
       "placeId                       \n",
       "605                  België   \n",
       "684                  België   \n",
       "440                  België   \n",
       "618                  België   \n",
       "868                  België   \n",
       "\n",
       "                                               moreInfoUrl   distance  \n",
       "placeId                                                                \n",
       "605      https://www.colruyt.be/nl/colruyt-openingsuren...   1.106735  \n",
       "684      https://www.colruyt.be/nl/colruyt-openingsuren...   2.335464  \n",
       "440      https://www.colruyt.be/nl/colruyt-openingsuren...   2.436959  \n",
       "618      https://www.colruyt.be/nl/colruyt-openingsuren...  12.858319  \n",
       "868      https://www.colruyt.be/nl/colruyt-openingsuren...  13.084022  "
      ]
     },
     "execution_count": 159,
     "metadata": {},
     "output_type": "execute_result"
    }
   ],
   "source": [
    "# Figure out which nis districts are near your home\n",
    "# calculate the distance\n",
    "\n",
    "# Notes\n",
    "# How to apply a function using 2 columns as input of a pandas df - https://stackoverflow.com/a/52854800/3056345\n",
    "# Can this be optimized? Currently not required\n",
    "gdf['distance'] = gdf[['centroid_lat', 'centroid_lon']].apply(lambda x: haversine(x.centroid_lat, x.centroid_lon, home_lat, home_lon), axis=1)\n",
    "\n",
    "# gdf.head(2)\n",
    "\n",
    "# Which 5 stores are closest to my home and what is the (vogelvlucht distance?)\n",
    "\n",
    "df_stores = df_clp.rename(columns={\n",
    "                            \"commercialName\": \"store\", \n",
    "                            \"geoCoordinates.latitude\": \"lat\",\n",
    "                            \"geoCoordinates.longitude\": \"lon\", \n",
    "                            }\n",
    "                         )[[\"store\",\n",
    "                             \"lat\",\n",
    "                             \"lon\",\n",
    "                             \"address.streetName\",\n",
    "                             \"address.houseNumber\",\n",
    "                             \"address.postalcode\",\n",
    "                             \"address.cityName\",\n",
    "                             \"address.countryName\",\n",
    "                             \"moreInfoUrl\"\n",
    "                            ]]\n",
    "\n",
    "df_stores['distance'] = df_stores[['lat', 'lon']].apply(lambda x: haversine(x.lat, x.lon, home_lat, home_lon), axis=1)\n",
    "\n",
    "df_stores = df_stores.sort_values(by='distance', ascending=True).iloc[:5]\n",
    "\n",
    "df_stores.head(5)"
   ]
  },
  {
   "cell_type": "code",
   "execution_count": 105,
   "metadata": {
    "Collapsed": "false"
   },
   "outputs": [],
   "source": [
    "gdf_nis_centroid_close_by = gdf[ gdf['distance'] < perimeter_distance]"
   ]
  },
  {
   "cell_type": "markdown",
   "metadata": {
    "Collapsed": "false"
   },
   "source": [
    "### Dynamical map using folium"
   ]
  },
  {
   "cell_type": "code",
   "execution_count": 199,
   "metadata": {
    "Collapsed": "false"
   },
   "outputs": [
    {
     "data": {
      "text/html": [
       "<div style=\"width:100%;\"><div style=\"position:relative;width:100%;height:0;padding-bottom:60%;\"><iframe src=\"data:text/html;charset=utf-8;base64,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\" style=\"position:absolute;width:100%;height:100%;left:0;top:0;border:none !important;\" allowfullscreen webkitallowfullscreen mozallowfullscreen></iframe></div></div>"
      ],
      "text/plain": [
       "<folium.folium.Map at 0x1e250ce8288>"
      ]
     },
     "execution_count": 199,
     "metadata": {},
     "output_type": "execute_result"
    }
   ],
   "source": [
    "home = [home_lat, home_lon]\n",
    "\n",
    "# create base map\n",
    "m = folium.Map(location=home, tiles=\"OpenStreetMap\", zoom_start=14)\n",
    "\n",
    "# add home marker\n",
    "folium.Marker(location=home, tooltip=\"home\").add_to(m)\n",
    "\n",
    "# add perimeter\n",
    "folium.Circle(\n",
    "    location=home,\n",
    "    color=\"#3186cc\",\n",
    "    fill=False,\n",
    "    # fill_color='#3186cc',\n",
    "    tooltip=f\"{perimeter_distance}km perimeter from home\",\n",
    "    radius=perimeter_distance * 1000,\n",
    ").add_to(m)\n",
    "\n",
    "# add nis centroids\n",
    "centroids = zip(\n",
    "    df_nis_centroid_close_by.centroid_lat, df_nis_centroid_close_by.centroid_lon\n",
    ")\n",
    "for centroid in centroids:\n",
    "    folium.CircleMarker(location=centroid, color=\"red\", radius=1).add_to(m)\n",
    "\n",
    "# add nis polygon area\n",
    "folium.Choropleth(\n",
    "    geo_data=gdf_nis_centroid_close_by.to_json(),\n",
    "    line_color=\"grey\",\n",
    "    line_weight=3,\n",
    "    line_opacity=0.8,\n",
    "    fill_color=\"grey\",\n",
    "    fill_opacity=0.2,\n",
    "    smooth_factor=2.0,  # dafault: 1.0 More means better performance and smoother look, and less means more accurate representation\n",
    "    name=\"nis area\",\n",
    "    overlay=True,\n",
    "    control=True,\n",
    "    show=True,\n",
    ").add_to(m)\n",
    "\n",
    "folium.LayerControl().add_to(m)\n",
    "\n",
    "# add colruyt stores\n",
    "for index, store in df_stores.iterrows():\n",
    "    popup_html = f\"\"\"\n",
    "                {store.store}                \n",
    "                <br><br>bird's-eye distance: {round(store.distance,1)}km\n",
    "                <br><br>{store['address.streetName']}&nbsp;{store['address.houseNumber']}               \n",
    "                <br>{store['address.postalcode']} {store['address.cityName']}                \n",
    "                <br><br><a href=\"{store.moreInfoUrl}\">opening hours</a>                \n",
    "            \"\"\"\n",
    "    popup = folium.Popup(popup_html, min_width=1200, close_button=True)\n",
    "    folium.Marker(\n",
    "        location=(store.lat, store.lon),\n",
    "        tooltip=f\"{store.store}\",\n",
    "        popup=popup,\n",
    "        icon=folium.Icon(color=\"orange\", prefix=\"fa\", icon=\"shopping-cart\"),\n",
    "    ).add_to(m)\n",
    "\n",
    "# show map\n",
    "m"
   ]
  }
 ],
 "metadata": {
  "kernelspec": {
   "display_name": "Python 3",
   "language": "python",
   "name": "python3"
  },
  "language_info": {
   "codemirror_mode": {
    "name": "ipython",
    "version": 3
   },
   "file_extension": ".py",
   "mimetype": "text/x-python",
   "name": "python",
   "nbconvert_exporter": "python",
   "pygments_lexer": "ipython3",
   "version": "3.7.5"
  }
 },
 "nbformat": 4,
 "nbformat_minor": 4
}
