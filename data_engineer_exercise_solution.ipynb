{
 "cells": [
  {
   "cell_type": "markdown",
   "metadata": {
    "Collapsed": "true"
   },
   "source": [
    "# notebook settings"
   ]
  },
  {
   "cell_type": "code",
   "execution_count": 2,
   "metadata": {
    "Collapsed": "false"
   },
   "outputs": [],
   "source": [
    "# automatic code formating is available using the extension jupyterlab_code_formatter \n",
    "# the formatter is set to black (PEP 8 compliant)\n",
    "\n",
    "# display full output when running a cell instead of only the last result\n",
    "from IPython.core.interactiveshell import InteractiveShell\n",
    "\n",
    "InteractiveShell.ast_node_interactivity = \"last\"\n",
    "\n",
    "# interactively display json\n",
    "from IPython.display import JSON"
   ]
  },
  {
   "cell_type": "markdown",
   "metadata": {
    "Collapsed": "true"
   },
   "source": [
    "# Evaluation criteria"
   ]
  },
  {
   "cell_type": "markdown",
   "metadata": {
    "Collapsed": "false"
   },
   "source": [
    "The goal of this assignment is to get a view on your hands-on \"data engineering\" skills.  \n",
    "At our company, our data scientists and engineers collaborate on projects.  \n",
    "Your main focus will be creating performant & robust data flows.  \n",
    "For a take-home-assignment, we cannot grant you access to our infrastructure.  \n",
    "The assignement below measures your proficiency in general programming, data science & engineering tasks using python.  \n",
    "Completion should not take more than half a day.\n",
    "\n",
    "**We expect you to be proficient in:**\n",
    " * SQL queries (Sybase IQ system)\n",
    " * ETL flows (In collaboration with existing teams)\n",
    " * General python to glue it all together\n",
    " * Python data science ecosystem (Pandas + SKlearn)\n",
    " \n",
    "**In this exercise we expect you to demonstrate your ability to / knowledge of:**\n",
    " * Building a data science runtime\n",
    " * PEP8 / Google python styleguide\n",
    " * Efficiently getting the job done\n",
    " * Choose meaningfull names for variables & functions\n",
    " * Writing maintainable code (yes, you might need to document some steps)\n",
    " * Help a data scientist present interactive results.\n",
    " * Offer predictions via REST api"
   ]
  },
  {
   "cell_type": "markdown",
   "metadata": {
    "Collapsed": "false"
   },
   "source": [
    "# Deliverables"
   ]
  },
  {
   "cell_type": "markdown",
   "metadata": {
    "Collapsed": "false"
   },
   "source": [
    "- setup a datascience environment in the cloud\n",
    "- X make code PEP8 compliant using black\n",
    "- X Efficiently getting the job done\n",
    "- X Choose meaningfull names for variables & functions\n",
    "- X document\n",
    "- X Help a data scientist present interactive results.\n",
    "- X Offer predictions via REST api (cloud and local)\n",
    "- X improve notebook layout\n",
    "\n",
    "- notebook with the completed assignment\n",
    "- list of packages for your runtime (e.g. yml or txt file)\n",
    "- evidence of a working API endpoint\n",
    "\n",
    "### Todo not-urgent\n",
    "- install jupyter lab packages\n",
    "- add setup to personal website\n",
    "\n",
    "\n",
    "\n"
   ]
  },
  {
   "cell_type": "markdown",
   "metadata": {
    "Collapsed": "true"
   },
   "source": [
    "# Setup a datascience environment in the cloud"
   ]
  },
  {
   "cell_type": "markdown",
   "metadata": {
    "Collapsed": "false"
   },
   "source": [
    "Information about the Jupyter Lab environment you are currently working in:  \n",
    "    - hosted on AWS  \n",
    "    - launched using Docker  \n",
    "    - has jupyter lab extensions installed  \n",
    "    "
   ]
  },
  {
   "cell_type": "markdown",
   "metadata": {
    "Collapsed": "true",
    "toc-hr-collapsed": false
   },
   "source": [
    "# Excercise - Data ingestion"
   ]
  },
  {
   "cell_type": "markdown",
   "metadata": {
    "Collapsed": "true"
   },
   "source": [
    "## Imports"
   ]
  },
  {
   "cell_type": "code",
   "execution_count": 4,
   "metadata": {
    "Collapsed": "false"
   },
   "outputs": [],
   "source": [
    "import pandas as pd\n",
    "from pandas.io.json import json_normalize\n",
    "import numpy as np\n",
    "import joblib\n",
    "\n",
    "import requests\n",
    "import json\n",
    "from pprint import pprint\n",
    "import unittest"
   ]
  },
  {
   "cell_type": "markdown",
   "metadata": {
    "Collapsed": "true",
    "toc-hr-collapsed": false
   },
   "source": [
    "## Getting store location data from an API"
   ]
  },
  {
   "cell_type": "markdown",
   "metadata": {
    "Collapsed": "true"
   },
   "source": [
    "### Get data"
   ]
  },
  {
   "cell_type": "markdown",
   "metadata": {
    "Collapsed": "false"
   },
   "source": [
    "**Goal:** Obtain a pandas dataframe  \n",
    "**Hint:** You will need to normalise/flatten the json, because it contains multiple levels  \n",
    "**API call:** https://ecgplacesmw.colruytgroup.com/ecgplacesmw/v3/nl/places/filter/clp-places  "
   ]
  },
  {
   "cell_type": "markdown",
   "metadata": {
    "Collapsed": "true"
   },
   "source": [
    "### Explore the api"
   ]
  },
  {
   "cell_type": "code",
   "execution_count": 5,
   "metadata": {
    "Collapsed": "false"
   },
   "outputs": [],
   "source": [
    "url = \"https://ecgplacesmw.colruytgroup.com/ecgplacesmw/v3/nl/places/filter/clp-places\"\n",
    "resp = requests.get(url)\n",
    "d = resp.json()  # d is a list of dictionaries\n",
    "df = json_normalize(data=d, sep=\".\")"
   ]
  },
  {
   "cell_type": "code",
   "execution_count": 6,
   "metadata": {
    "Collapsed": "false"
   },
   "outputs": [
    {
     "data": {
      "application/json": {
       "address": {
        "cityName": "AALST",
        "countryName": "België",
        "houseNumber": "41",
        "postalcode": "9300",
        "streetName": "BRUSSELSE STEENWEG"
       },
       "branchId": "4156",
       "commercialName": "AALST (COLRUYT)",
       "ensign": {
        "id": 8,
        "name": "COLR_Colruyt"
       },
       "geoCoordinates": {
        "latitude": 50.933074,
        "longitude": 4.0538972
       },
       "handoverServices": [
        "CSOP_ORDERABLE"
       ],
       "isActive": true,
       "moreInfoUrl": "https://www.colruyt.be/nl/colruyt-openingsuren/4156",
       "placeId": 902,
       "placeType": {
        "id": 1,
        "longName": "Winkel",
        "placeTypeDescription": "Winkel"
       },
       "routeUrl": "https://maps.apple.com/?daddr=50.933074,4.0538972",
       "sellingPartners": [
        "QUALITY"
       ],
       "sourceStatus": "AC"
      },
      "text/plain": [
       "<IPython.core.display.JSON object>"
      ]
     },
     "execution_count": 6,
     "metadata": {
      "application/json": {
       "expanded": false,
       "root": "root"
      }
     },
     "output_type": "execute_result"
    }
   ],
   "source": [
    "# explore data\n",
    "JSON(d[0])"
   ]
  },
  {
   "cell_type": "code",
   "execution_count": 7,
   "metadata": {
    "Collapsed": "false"
   },
   "outputs": [
    {
     "data": {
      "text/plain": [
       "(251, 21)"
      ]
     },
     "execution_count": 7,
     "metadata": {},
     "output_type": "execute_result"
    }
   ],
   "source": [
    "df.shape"
   ]
  },
  {
   "cell_type": "code",
   "execution_count": 8,
   "metadata": {
    "Collapsed": "false"
   },
   "outputs": [],
   "source": [
    "# set an index?\n",
    "# df.placeId.nunique()\n",
    "df.set_index(\"placeId\", drop=True, inplace=True)\n",
    "# optimize memory-usage by changing dtypes?\n",
    "# df.dtypes\n",
    "# not required, memory is not an issue"
   ]
  },
  {
   "cell_type": "code",
   "execution_count": 9,
   "metadata": {
    "Collapsed": "false"
   },
   "outputs": [
    {
     "data": {
      "text/html": [
       "<div>\n",
       "<style scoped>\n",
       "    .dataframe tbody tr th:only-of-type {\n",
       "        vertical-align: middle;\n",
       "    }\n",
       "\n",
       "    .dataframe tbody tr th {\n",
       "        vertical-align: top;\n",
       "    }\n",
       "\n",
       "    .dataframe thead th {\n",
       "        text-align: right;\n",
       "    }\n",
       "</style>\n",
       "<table border=\"1\" class=\"dataframe\">\n",
       "  <thead>\n",
       "    <tr style=\"text-align: right;\">\n",
       "      <th></th>\n",
       "      <th>commercialName</th>\n",
       "      <th>branchId</th>\n",
       "      <th>sourceStatus</th>\n",
       "      <th>sellingPartners</th>\n",
       "      <th>handoverServices</th>\n",
       "      <th>moreInfoUrl</th>\n",
       "      <th>routeUrl</th>\n",
       "      <th>isActive</th>\n",
       "      <th>ensign.id</th>\n",
       "      <th>ensign.name</th>\n",
       "      <th>placeType.id</th>\n",
       "      <th>placeType.longName</th>\n",
       "      <th>placeType.placeTypeDescription</th>\n",
       "      <th>geoCoordinates.latitude</th>\n",
       "      <th>geoCoordinates.longitude</th>\n",
       "      <th>address.streetName</th>\n",
       "      <th>address.houseNumber</th>\n",
       "      <th>address.postalcode</th>\n",
       "      <th>address.cityName</th>\n",
       "      <th>address.countryName</th>\n",
       "    </tr>\n",
       "    <tr>\n",
       "      <th>placeId</th>\n",
       "      <th></th>\n",
       "      <th></th>\n",
       "      <th></th>\n",
       "      <th></th>\n",
       "      <th></th>\n",
       "      <th></th>\n",
       "      <th></th>\n",
       "      <th></th>\n",
       "      <th></th>\n",
       "      <th></th>\n",
       "      <th></th>\n",
       "      <th></th>\n",
       "      <th></th>\n",
       "      <th></th>\n",
       "      <th></th>\n",
       "      <th></th>\n",
       "      <th></th>\n",
       "      <th></th>\n",
       "      <th></th>\n",
       "      <th></th>\n",
       "    </tr>\n",
       "  </thead>\n",
       "  <tbody>\n",
       "    <tr>\n",
       "      <th>902</th>\n",
       "      <td>AALST (COLRUYT)</td>\n",
       "      <td>4156</td>\n",
       "      <td>AC</td>\n",
       "      <td>[QUALITY]</td>\n",
       "      <td>[CSOP_ORDERABLE]</td>\n",
       "      <td>https://www.colruyt.be/nl/colruyt-openingsuren...</td>\n",
       "      <td>https://maps.apple.com/?daddr=50.933074,4.0538972</td>\n",
       "      <td>True</td>\n",
       "      <td>8</td>\n",
       "      <td>COLR_Colruyt</td>\n",
       "      <td>1</td>\n",
       "      <td>Winkel</td>\n",
       "      <td>Winkel</td>\n",
       "      <td>50.933074</td>\n",
       "      <td>4.053897</td>\n",
       "      <td>BRUSSELSE STEENWEG</td>\n",
       "      <td>41</td>\n",
       "      <td>9300</td>\n",
       "      <td>AALST</td>\n",
       "      <td>België</td>\n",
       "    </tr>\n",
       "    <tr>\n",
       "      <th>946</th>\n",
       "      <td>AALTER (COLRUYT)</td>\n",
       "      <td>4218</td>\n",
       "      <td>AC</td>\n",
       "      <td>[QUALITY]</td>\n",
       "      <td>[CSOP_ORDERABLE]</td>\n",
       "      <td>https://www.colruyt.be/nl/colruyt-openingsuren...</td>\n",
       "      <td>https://maps.apple.com/?daddr=51.0784761,3.450...</td>\n",
       "      <td>True</td>\n",
       "      <td>8</td>\n",
       "      <td>COLR_Colruyt</td>\n",
       "      <td>1</td>\n",
       "      <td>Winkel</td>\n",
       "      <td>Winkel</td>\n",
       "      <td>51.078476</td>\n",
       "      <td>3.450013</td>\n",
       "      <td>LOSTRAAT</td>\n",
       "      <td>66</td>\n",
       "      <td>9880</td>\n",
       "      <td>AALTER</td>\n",
       "      <td>België</td>\n",
       "    </tr>\n",
       "  </tbody>\n",
       "</table>\n",
       "</div>"
      ],
      "text/plain": [
       "           commercialName branchId sourceStatus sellingPartners  \\\n",
       "placeId                                                           \n",
       "902       AALST (COLRUYT)     4156           AC       [QUALITY]   \n",
       "946      AALTER (COLRUYT)     4218           AC       [QUALITY]   \n",
       "\n",
       "         handoverServices                                        moreInfoUrl  \\\n",
       "placeId                                                                        \n",
       "902      [CSOP_ORDERABLE]  https://www.colruyt.be/nl/colruyt-openingsuren...   \n",
       "946      [CSOP_ORDERABLE]  https://www.colruyt.be/nl/colruyt-openingsuren...   \n",
       "\n",
       "                                                  routeUrl  isActive  \\\n",
       "placeId                                                                \n",
       "902      https://maps.apple.com/?daddr=50.933074,4.0538972      True   \n",
       "946      https://maps.apple.com/?daddr=51.0784761,3.450...      True   \n",
       "\n",
       "         ensign.id   ensign.name  placeType.id placeType.longName  \\\n",
       "placeId                                                             \n",
       "902              8  COLR_Colruyt             1             Winkel   \n",
       "946              8  COLR_Colruyt             1             Winkel   \n",
       "\n",
       "        placeType.placeTypeDescription  geoCoordinates.latitude  \\\n",
       "placeId                                                           \n",
       "902                             Winkel                50.933074   \n",
       "946                             Winkel                51.078476   \n",
       "\n",
       "         geoCoordinates.longitude  address.streetName address.houseNumber  \\\n",
       "placeId                                                                     \n",
       "902                      4.053897  BRUSSELSE STEENWEG                  41   \n",
       "946                      3.450013            LOSTRAAT                  66   \n",
       "\n",
       "        address.postalcode address.cityName address.countryName  \n",
       "placeId                                                          \n",
       "902                   9300            AALST              België  \n",
       "946                   9880           AALTER              België  "
      ]
     },
     "execution_count": 9,
     "metadata": {},
     "output_type": "execute_result"
    }
   ],
   "source": [
    "df.head(2)"
   ]
  },
  {
   "cell_type": "markdown",
   "metadata": {
    "Collapsed": "true"
   },
   "source": [
    "### Create a function to get the data"
   ]
  },
  {
   "cell_type": "code",
   "execution_count": 10,
   "metadata": {
    "Collapsed": "false"
   },
   "outputs": [
    {
     "data": {
      "text/html": [
       "<div>\n",
       "<style scoped>\n",
       "    .dataframe tbody tr th:only-of-type {\n",
       "        vertical-align: middle;\n",
       "    }\n",
       "\n",
       "    .dataframe tbody tr th {\n",
       "        vertical-align: top;\n",
       "    }\n",
       "\n",
       "    .dataframe thead th {\n",
       "        text-align: right;\n",
       "    }\n",
       "</style>\n",
       "<table border=\"1\" class=\"dataframe\">\n",
       "  <thead>\n",
       "    <tr style=\"text-align: right;\">\n",
       "      <th></th>\n",
       "      <th>commercialName</th>\n",
       "      <th>branchId</th>\n",
       "      <th>sourceStatus</th>\n",
       "      <th>sellingPartners</th>\n",
       "      <th>handoverServices</th>\n",
       "      <th>moreInfoUrl</th>\n",
       "      <th>routeUrl</th>\n",
       "      <th>isActive</th>\n",
       "      <th>ensign.id</th>\n",
       "      <th>ensign.name</th>\n",
       "      <th>placeType.id</th>\n",
       "      <th>placeType.longName</th>\n",
       "      <th>placeType.placeTypeDescription</th>\n",
       "      <th>geoCoordinates.latitude</th>\n",
       "      <th>geoCoordinates.longitude</th>\n",
       "      <th>address.streetName</th>\n",
       "      <th>address.houseNumber</th>\n",
       "      <th>address.postalcode</th>\n",
       "      <th>address.cityName</th>\n",
       "      <th>address.countryName</th>\n",
       "    </tr>\n",
       "    <tr>\n",
       "      <th>placeId</th>\n",
       "      <th></th>\n",
       "      <th></th>\n",
       "      <th></th>\n",
       "      <th></th>\n",
       "      <th></th>\n",
       "      <th></th>\n",
       "      <th></th>\n",
       "      <th></th>\n",
       "      <th></th>\n",
       "      <th></th>\n",
       "      <th></th>\n",
       "      <th></th>\n",
       "      <th></th>\n",
       "      <th></th>\n",
       "      <th></th>\n",
       "      <th></th>\n",
       "      <th></th>\n",
       "      <th></th>\n",
       "      <th></th>\n",
       "      <th></th>\n",
       "    </tr>\n",
       "  </thead>\n",
       "  <tbody>\n",
       "    <tr>\n",
       "      <th>902</th>\n",
       "      <td>AALST (COLRUYT)</td>\n",
       "      <td>4156</td>\n",
       "      <td>AC</td>\n",
       "      <td>[QUALITY]</td>\n",
       "      <td>[CSOP_ORDERABLE]</td>\n",
       "      <td>https://www.colruyt.be/nl/colruyt-openingsuren...</td>\n",
       "      <td>https://maps.apple.com/?daddr=50.933074,4.0538972</td>\n",
       "      <td>True</td>\n",
       "      <td>8</td>\n",
       "      <td>COLR_Colruyt</td>\n",
       "      <td>1</td>\n",
       "      <td>Winkel</td>\n",
       "      <td>Winkel</td>\n",
       "      <td>50.933074</td>\n",
       "      <td>4.053897</td>\n",
       "      <td>BRUSSELSE STEENWEG</td>\n",
       "      <td>41</td>\n",
       "      <td>9300</td>\n",
       "      <td>AALST</td>\n",
       "      <td>België</td>\n",
       "    </tr>\n",
       "    <tr>\n",
       "      <th>946</th>\n",
       "      <td>AALTER (COLRUYT)</td>\n",
       "      <td>4218</td>\n",
       "      <td>AC</td>\n",
       "      <td>[QUALITY]</td>\n",
       "      <td>[CSOP_ORDERABLE]</td>\n",
       "      <td>https://www.colruyt.be/nl/colruyt-openingsuren...</td>\n",
       "      <td>https://maps.apple.com/?daddr=51.0784761,3.450...</td>\n",
       "      <td>True</td>\n",
       "      <td>8</td>\n",
       "      <td>COLR_Colruyt</td>\n",
       "      <td>1</td>\n",
       "      <td>Winkel</td>\n",
       "      <td>Winkel</td>\n",
       "      <td>51.078476</td>\n",
       "      <td>3.450013</td>\n",
       "      <td>LOSTRAAT</td>\n",
       "      <td>66</td>\n",
       "      <td>9880</td>\n",
       "      <td>AALTER</td>\n",
       "      <td>België</td>\n",
       "    </tr>\n",
       "  </tbody>\n",
       "</table>\n",
       "</div>"
      ],
      "text/plain": [
       "           commercialName branchId sourceStatus sellingPartners  \\\n",
       "placeId                                                           \n",
       "902       AALST (COLRUYT)     4156           AC       [QUALITY]   \n",
       "946      AALTER (COLRUYT)     4218           AC       [QUALITY]   \n",
       "\n",
       "         handoverServices                                        moreInfoUrl  \\\n",
       "placeId                                                                        \n",
       "902      [CSOP_ORDERABLE]  https://www.colruyt.be/nl/colruyt-openingsuren...   \n",
       "946      [CSOP_ORDERABLE]  https://www.colruyt.be/nl/colruyt-openingsuren...   \n",
       "\n",
       "                                                  routeUrl  isActive  \\\n",
       "placeId                                                                \n",
       "902      https://maps.apple.com/?daddr=50.933074,4.0538972      True   \n",
       "946      https://maps.apple.com/?daddr=51.0784761,3.450...      True   \n",
       "\n",
       "         ensign.id   ensign.name  placeType.id placeType.longName  \\\n",
       "placeId                                                             \n",
       "902              8  COLR_Colruyt             1             Winkel   \n",
       "946              8  COLR_Colruyt             1             Winkel   \n",
       "\n",
       "        placeType.placeTypeDescription  geoCoordinates.latitude  \\\n",
       "placeId                                                           \n",
       "902                             Winkel                50.933074   \n",
       "946                             Winkel                51.078476   \n",
       "\n",
       "         geoCoordinates.longitude  address.streetName address.houseNumber  \\\n",
       "placeId                                                                     \n",
       "902                      4.053897  BRUSSELSE STEENWEG                  41   \n",
       "946                      3.450013            LOSTRAAT                  66   \n",
       "\n",
       "        address.postalcode address.cityName address.countryName  \n",
       "placeId                                                          \n",
       "902                   9300            AALST              België  \n",
       "946                   9880           AALTER              België  "
      ]
     },
     "execution_count": 10,
     "metadata": {},
     "output_type": "execute_result"
    }
   ],
   "source": [
    "def get_clp_places(url):\n",
    "    resp = requests.get(url)\n",
    "    d = resp.json()\n",
    "    df = json_normalize(data=d, sep=\".\")\n",
    "    df.set_index(\"placeId\", drop=True, inplace=True)\n",
    "    # optimize memory-usage by changing dtypes\n",
    "    # memory is not an issue, changing dtypes is not yet required\n",
    "    return df\n",
    "\n",
    "\n",
    "url = \"https://ecgplacesmw.colruytgroup.com/ecgplacesmw/v3/nl/places/filter/clp-places\"\n",
    "df_clp = get_clp_places(url)\n",
    "df_clp.head(2)"
   ]
  },
  {
   "cell_type": "markdown",
   "metadata": {
    "Collapsed": "true"
   },
   "source": [
    "### Check data quality"
   ]
  },
  {
   "cell_type": "markdown",
   "metadata": {
    "Collapsed": "false"
   },
   "source": [
    "We would like you to add several checks on this data based on these constraints:  \n",
    " * records > 200\n",
    " * latitude between 49 and 52\n",
    " * longitude between 2 and 7\n",
    " \n",
    "We dont want you to create a full blown test suite here, we're just gonna use 'asserts' from unittest"
   ]
  },
  {
   "cell_type": "code",
   "execution_count": 11,
   "metadata": {
    "Collapsed": "false"
   },
   "outputs": [
    {
     "ename": "AssertionError",
     "evalue": "False is not true : longitude (2.6492578) < minimum(4)",
     "output_type": "error",
     "traceback": [
      "\u001b[1;31m---------------------------------------------------------------------------\u001b[0m",
      "\u001b[1;31mAssertionError\u001b[0m                            Traceback (most recent call last)",
      "\u001b[1;32m<ipython-input-11-b3e2048f4c62>\u001b[0m in \u001b[0;36m<module>\u001b[1;34m\u001b[0m\n\u001b[0;32m     33\u001b[0m     \u001b[0mseries\u001b[0m\u001b[1;33m=\u001b[0m\u001b[0mdf_clp\u001b[0m\u001b[1;33m[\u001b[0m\u001b[1;34m\"geoCoordinates.longitude\"\u001b[0m\u001b[1;33m]\u001b[0m\u001b[1;33m,\u001b[0m\u001b[1;33m\u001b[0m\u001b[1;33m\u001b[0m\u001b[0m\n\u001b[0;32m     34\u001b[0m     \u001b[0mrange_min\u001b[0m\u001b[1;33m=\u001b[0m\u001b[0mlongitude_min\u001b[0m\u001b[1;33m,\u001b[0m\u001b[1;33m\u001b[0m\u001b[1;33m\u001b[0m\u001b[0m\n\u001b[1;32m---> 35\u001b[1;33m     \u001b[0mrange_max\u001b[0m\u001b[1;33m=\u001b[0m\u001b[0mlongitude_max\u001b[0m\u001b[1;33m,\u001b[0m\u001b[1;33m\u001b[0m\u001b[1;33m\u001b[0m\u001b[0m\n\u001b[0m\u001b[0;32m     36\u001b[0m )\n\u001b[0;32m     37\u001b[0m \u001b[1;33m\u001b[0m\u001b[0m\n",
      "\u001b[1;32m<ipython-input-11-b3e2048f4c62>\u001b[0m in \u001b[0;36mtest_range\u001b[1;34m(test_name, series, range_min, range_max)\u001b[0m\n\u001b[0;32m     13\u001b[0m \u001b[1;32mdef\u001b[0m \u001b[0mtest_range\u001b[0m\u001b[1;33m(\u001b[0m\u001b[0mtest_name\u001b[0m\u001b[1;33m,\u001b[0m \u001b[0mseries\u001b[0m\u001b[1;33m,\u001b[0m \u001b[0mrange_min\u001b[0m\u001b[1;33m=\u001b[0m\u001b[1;32mNone\u001b[0m\u001b[1;33m,\u001b[0m \u001b[0mrange_max\u001b[0m\u001b[1;33m=\u001b[0m\u001b[1;32mNone\u001b[0m\u001b[1;33m)\u001b[0m\u001b[1;33m:\u001b[0m\u001b[1;33m\u001b[0m\u001b[1;33m\u001b[0m\u001b[0m\n\u001b[0;32m     14\u001b[0m     tc.assertTrue(\n\u001b[1;32m---> 15\u001b[1;33m         \u001b[0mseries\u001b[0m\u001b[1;33m.\u001b[0m\u001b[0mmin\u001b[0m\u001b[1;33m(\u001b[0m\u001b[1;33m)\u001b[0m \u001b[1;33m>\u001b[0m \u001b[0mrange_min\u001b[0m\u001b[1;33m,\u001b[0m \u001b[1;34mf\"{test_name} ({series.min()}) < minimum({range_min})\"\u001b[0m\u001b[1;33m\u001b[0m\u001b[1;33m\u001b[0m\u001b[0m\n\u001b[0m\u001b[0;32m     16\u001b[0m     )\n\u001b[0;32m     17\u001b[0m     tc.assertTrue(\n",
      "\u001b[1;32m~\\Miniconda3\\envs\\colruyt\\lib\\unittest\\case.py\u001b[0m in \u001b[0;36massertTrue\u001b[1;34m(self, expr, msg)\u001b[0m\n\u001b[0;32m    703\u001b[0m         \u001b[1;32mif\u001b[0m \u001b[1;32mnot\u001b[0m \u001b[0mexpr\u001b[0m\u001b[1;33m:\u001b[0m\u001b[1;33m\u001b[0m\u001b[1;33m\u001b[0m\u001b[0m\n\u001b[0;32m    704\u001b[0m             \u001b[0mmsg\u001b[0m \u001b[1;33m=\u001b[0m \u001b[0mself\u001b[0m\u001b[1;33m.\u001b[0m\u001b[0m_formatMessage\u001b[0m\u001b[1;33m(\u001b[0m\u001b[0mmsg\u001b[0m\u001b[1;33m,\u001b[0m \u001b[1;34m\"%s is not true\"\u001b[0m \u001b[1;33m%\u001b[0m \u001b[0msafe_repr\u001b[0m\u001b[1;33m(\u001b[0m\u001b[0mexpr\u001b[0m\u001b[1;33m)\u001b[0m\u001b[1;33m)\u001b[0m\u001b[1;33m\u001b[0m\u001b[1;33m\u001b[0m\u001b[0m\n\u001b[1;32m--> 705\u001b[1;33m             \u001b[1;32mraise\u001b[0m \u001b[0mself\u001b[0m\u001b[1;33m.\u001b[0m\u001b[0mfailureException\u001b[0m\u001b[1;33m(\u001b[0m\u001b[0mmsg\u001b[0m\u001b[1;33m)\u001b[0m\u001b[1;33m\u001b[0m\u001b[1;33m\u001b[0m\u001b[0m\n\u001b[0m\u001b[0;32m    706\u001b[0m \u001b[1;33m\u001b[0m\u001b[0m\n\u001b[0;32m    707\u001b[0m     \u001b[1;32mdef\u001b[0m \u001b[0m_formatMessage\u001b[0m\u001b[1;33m(\u001b[0m\u001b[0mself\u001b[0m\u001b[1;33m,\u001b[0m \u001b[0mmsg\u001b[0m\u001b[1;33m,\u001b[0m \u001b[0mstandardMsg\u001b[0m\u001b[1;33m)\u001b[0m\u001b[1;33m:\u001b[0m\u001b[1;33m\u001b[0m\u001b[1;33m\u001b[0m\u001b[0m\n",
      "\u001b[1;31mAssertionError\u001b[0m: False is not true : longitude (2.6492578) < minimum(4)"
     ]
    }
   ],
   "source": [
    "records_min = 200\n",
    "latitude_min = 49\n",
    "latitude_max = 52\n",
    "longitude_min = 4\n",
    "# longitude_min = 2\n",
    "longitude_max = 7\n",
    "tc = unittest.TestCase(\"__init__\")\n",
    "\n",
    "# check records len\n",
    "tc.assertTrue(len(df_clp.index) > records_min, f\"less than {records_min} records\")\n",
    "\n",
    "\n",
    "def test_range(test_name, series, range_min=None, range_max=None):\n",
    "    tc.assertTrue(\n",
    "        series.min() > range_min, f\"{test_name} ({series.min()}) < minimum({range_min})\"\n",
    "    )\n",
    "    tc.assertTrue(\n",
    "        series.max() < range_max, f\"{test_name} ({series.max()}) > maximum({range_max})\"\n",
    "    )\n",
    "\n",
    "\n",
    "# check latitude range\n",
    "test_range(\n",
    "    test_name=\"latitude\",\n",
    "    series=df_clp[\"geoCoordinates.latitude\"],\n",
    "    range_min=latitude_min,\n",
    "    range_max=latitude_max,\n",
    ")\n",
    "\n",
    "# check longitude range\n",
    "test_range(\n",
    "    test_name=\"longitude\",\n",
    "    series=df_clp[\"geoCoordinates.longitude\"],\n",
    "    range_min=longitude_min,\n",
    "    range_max=longitude_max,\n",
    ")\n",
    "\n",
    "# further improvement, return the placeId on a False"
   ]
  },
  {
   "cell_type": "markdown",
   "metadata": {
    "Collapsed": "true"
   },
   "source": [
    "### Feature creation\n",
    "\n",
    "Create a new column \"antwerpen\" which is 1 for all stores in Antwerpen (province) and 0 for all others "
   ]
  },
  {
   "cell_type": "code",
   "execution_count": 13,
   "metadata": {
    "Collapsed": "false"
   },
   "outputs": [
    {
     "data": {
      "text/plain": [
       "0    216\n",
       "1     35\n",
       "Name: antwerpen, dtype: int64"
      ]
     },
     "execution_count": 13,
     "metadata": {},
     "output_type": "execute_result"
    }
   ],
   "source": [
    "# Should a selection be done on 'placeType.longName'?\n",
    "# df_clp['placeType.longName'].unique()\n",
    "# No, the places are all \"winkel\"\n",
    "# What is the province field?\n",
    "# a province field does not exist!?\n",
    "# Use the postcode to check for the province?\n",
    "# on wikipedia https://www.wikiwand.com/en/List_of_postal_codes_in_Belgium -> Antwerp postcodes: 2000-2999\n",
    "\n",
    "df_clp[\"address.postalcode\"] = df_clp[\"address.postalcode\"].astype(\"int32\")\n",
    "df_clp[\"antwerpen\"] = np.where(\n",
    "    (df_clp[\"address.postalcode\"] >= 2000) & (df_clp[\"address.postalcode\"] <= 2999),\n",
    "    1,\n",
    "    0,\n",
    ")\n",
    "\n",
    "# data quality check\n",
    "df_clp[\"antwerpen\"].value_counts()"
   ]
  },
  {
   "cell_type": "markdown",
   "metadata": {
    "Collapsed": "true"
   },
   "source": [
    "# Excercise - REST-api for an ML-model"
   ]
  },
  {
   "cell_type": "markdown",
   "metadata": {
    "Collapsed": "false"
   },
   "source": [
    "A datascientist made a basic model to predict car prices.  \n",
    "The model was saved to disk ('lgbr_cars.model') using joblib's dump fuctionality.  \n",
    "Documentation states the model is a LightGBM Regressor, trained using the sk-learn api."
   ]
  },
  {
   "cell_type": "code",
   "execution_count": 1,
   "metadata": {
    "Collapsed": "false"
   },
   "outputs": [
    {
     "ename": "NameError",
     "evalue": "name 'joblib' is not defined",
     "output_type": "error",
     "traceback": [
      "\u001b[1;31m---------------------------------------------------------------------------\u001b[0m",
      "\u001b[1;31mNameError\u001b[0m                                 Traceback (most recent call last)",
      "\u001b[1;32m<ipython-input-1-6439fbb6dd5a>\u001b[0m in \u001b[0;36m<module>\u001b[1;34m\u001b[0m\n\u001b[0;32m      4\u001b[0m \u001b[1;33m\u001b[0m\u001b[0m\n\u001b[0;32m      5\u001b[0m \u001b[1;33m\u001b[0m\u001b[0m\n\u001b[1;32m----> 6\u001b[1;33m \u001b[0mlgbr_cars\u001b[0m \u001b[1;33m=\u001b[0m \u001b[0mretrieve_model\u001b[0m\u001b[1;33m(\u001b[0m\u001b[1;34m\"rest_api\\lgbr_cars.model\"\u001b[0m\u001b[1;33m)\u001b[0m\u001b[1;33m\u001b[0m\u001b[1;33m\u001b[0m\u001b[0m\n\u001b[0m\u001b[0;32m      7\u001b[0m \u001b[1;33m\u001b[0m\u001b[0m\n\u001b[0;32m      8\u001b[0m \u001b[1;31m# check the class of the model\u001b[0m\u001b[1;33m\u001b[0m\u001b[1;33m\u001b[0m\u001b[1;33m\u001b[0m\u001b[0m\n",
      "\u001b[1;32m<ipython-input-1-6439fbb6dd5a>\u001b[0m in \u001b[0;36mretrieve_model\u001b[1;34m(path)\u001b[0m\n\u001b[0;32m      1\u001b[0m \u001b[1;32mdef\u001b[0m \u001b[0mretrieve_model\u001b[0m\u001b[1;33m(\u001b[0m\u001b[0mpath\u001b[0m\u001b[1;33m)\u001b[0m\u001b[1;33m:\u001b[0m\u001b[1;33m\u001b[0m\u001b[1;33m\u001b[0m\u001b[0m\n\u001b[1;32m----> 2\u001b[1;33m     \u001b[0mtrained_model\u001b[0m \u001b[1;33m=\u001b[0m \u001b[0mjoblib\u001b[0m\u001b[1;33m.\u001b[0m\u001b[0mload\u001b[0m\u001b[1;33m(\u001b[0m\u001b[0mpath\u001b[0m\u001b[1;33m)\u001b[0m\u001b[1;33m\u001b[0m\u001b[1;33m\u001b[0m\u001b[0m\n\u001b[0m\u001b[0;32m      3\u001b[0m     \u001b[1;32mreturn\u001b[0m \u001b[0mtrained_model\u001b[0m\u001b[1;33m\u001b[0m\u001b[1;33m\u001b[0m\u001b[0m\n\u001b[0;32m      4\u001b[0m \u001b[1;33m\u001b[0m\u001b[0m\n\u001b[0;32m      5\u001b[0m \u001b[1;33m\u001b[0m\u001b[0m\n",
      "\u001b[1;31mNameError\u001b[0m: name 'joblib' is not defined"
     ]
    }
   ],
   "source": [
    "def retrieve_model(path):\n",
    "    trained_model = joblib.load(path)\n",
    "    return trained_model\n",
    "\n",
    "\n",
    "lgbr_cars = retrieve_model(\"rest_api\\lgbr_cars.model\")\n",
    "\n",
    "# check the class of the model\n",
    "tc = unittest.TestCase(\"__init__\")\n",
    "tc.assertEqual(\n",
    "    str(type(lgbr_cars)), \"<class 'lightgbm.sklearn.LGBMRegressor'>\", type(lgbr_cars)\n",
    ")"
   ]
  },
  {
   "cell_type": "markdown",
   "metadata": {
    "Collapsed": "false"
   },
   "source": [
    "Functional test of the trained model.  \n",
    "Parameters:\n",
    "\n",
    "* vehicleType: coupe\n",
    "* gearbox: manuell\n",
    "* powerPS: 190\n",
    "* model: NaN\n",
    "* kilometer: 125000\n",
    "* monthOfRegistration: 5 \n",
    "* fuelType: diesel\n",
    "* brand: audi\n",
    "\n",
    "Based on these parameters, you should get a predicted value of 14026.35068804  \n",
    "However, the model doesnt accept string inputs, see the integer encoding below:"
   ]
  },
  {
   "cell_type": "code",
   "execution_count": 16,
   "metadata": {
    "Collapsed": "false"
   },
   "outputs": [],
   "source": [
    "model_test_input = [[3, 1, 190, -1, 125000, 5, 3, 1]]"
   ]
  },
  {
   "cell_type": "code",
   "execution_count": 17,
   "metadata": {
    "Collapsed": "false"
   },
   "outputs": [],
   "source": [
    "def make_prediction(trained_model, single_input):\n",
    "    predicted_value = trained_model.predict(single_input)[0]\n",
    "    return predicted_value\n",
    "\n",
    "\n",
    "predicted_value = make_prediction(lgbr_cars, model_test_input)\n",
    "\n",
    "tc.assertAlmostEqual(predicted_value, 14026.35, places=2)"
   ]
  },
  {
   "cell_type": "markdown",
   "metadata": {
    "Collapsed": "true"
   },
   "source": [
    "### REST api"
   ]
  },
  {
   "cell_type": "markdown",
   "metadata": {
    "Collapsed": "false"
   },
   "source": [
    "The lgbr_cars model REST api code is available in the car_price_prediction_app.py file.  \n",
    "\n",
    "not in scope:\n",
    "- authentication\n",
    "- documentation\n",
    "- nice inputs\n",
    "\n",
    "AWS deployment \n",
    "The API is deployed as a Dockerized Flask web-app on AWS Elastic Beanstalk.  \n",
    "The rest_api\\Dockerfile is used in the EB deployment.\n",
    "The \n",
    "\n",
    "REST api details:   \n",
    "url: http://ml-demo-test1.us-east-1.elasticbeanstalk.com/predict\n",
    "Should the url not work. Contact me to launch the server again.\n",
    "\n",
    "Local deployment  \n",
    "REST api details: \n",
    "- start a terminal\n",
    "- activate the conda enviroment\n",
    "- run \"python car_price_prediction_app.py\"\n",
    "- the REST api is up and running\n",
    "- test the api using the test instructions below\n",
    "- shutdown the api \"CTRL+c\" in the terminal"
   ]
  },
  {
   "cell_type": "markdown",
   "metadata": {
    "Collapsed": "false"
   },
   "source": [
    "The REST api can be tested using the following input and output:  \n",
    "[-1,1,0,118,150000,0,1,38] ==> prediction should be 13920.70\n",
    "\n",
    "You can use Postman, curl or Python to test the API.  \n",
    "[Postman](https://www.getpostman.com/)\n",
    "\n",
    "**Curl:**\n",
    "```bash\n",
    "curl -d '{\"single_input\": [-1, 1, 0, 118, 150000, 0, 1, 38]}' -H \"Content-Type: application/json\" -X POST <url>\n",
    "```\n",
    "\n",
    "**Python:** "
   ]
  },
  {
   "cell_type": "code",
   "execution_count": null,
   "metadata": {
    "Collapsed": "false"
   },
   "outputs": [],
   "source": [
    "url = \"http://127.0.0.2:5000/predict\"\n",
    "data = {\"single_input\": [-1, 1, 0, 118, 150000, 0, 1, 38]}\n",
    "j_data = json.dumps(data)\n",
    "headers = {\"content-type\": \"application/json\", \"Accept-Charset\": \"UTF-8\"}\n",
    "r = requests.post(url, data=j_data, headers=headers)\n",
    "# print(r)\n",
    "print(r.json())"
   ]
  },
  {
   "cell_type": "markdown",
   "metadata": {
    "Collapsed": "true"
   },
   "source": [
    "# Excercise - Visualization of geospatial data"
   ]
  },
  {
   "cell_type": "markdown",
   "metadata": {
    "Collapsed": "false",
    "toc-hr-collapsed": false
   },
   "source": [
    "The goal of this exercise is to read in some data from a shape file and visualize it on a map\n",
    "- The map should be dynamic. I want to zoom in and out to see more interesting aspects of the map\n",
    "- We want you to visualize the statistical sectors within a distance of 2KM of your home location.\n",
    "\n",
    "Specific steps to take:\n",
    "- Read in the shape file\n",
    "- Transform to WGS coordinates\n",
    "- Create a distance function (Haversine)\n",
    "- Create variables for home_lat, home_lon and perimeter_distance\n",
    "- Calculate centroid for each nis district\n",
    "- Calculate the distance to home for each nis district centroid \n",
    "- Figure out which nis districts are near your home\n",
    "- Create dynamic zoomable map\n",
    "- Visualize the nis districts near you (centroid <2km away), on the map\n"
   ]
  },
  {
   "cell_type": "markdown",
   "metadata": {
    "Collapsed": "true"
   },
   "source": [
    "## imports"
   ]
  },
  {
   "cell_type": "code",
   "execution_count": 27,
   "metadata": {
    "Collapsed": "false"
   },
   "outputs": [],
   "source": [
    "import pandas\n",
    "import geopandas as gpd\n",
    "import folium\n",
    "from math import radians, cos, sin, asin, sqrt, pi"
   ]
  },
  {
   "cell_type": "markdown",
   "metadata": {
    "Collapsed": "true"
   },
   "source": [
    "## Read data"
   ]
  },
  {
   "cell_type": "code",
   "execution_count": 22,
   "metadata": {
    "Collapsed": "false"
   },
   "outputs": [],
   "source": [
    "# Read in the shape file\n",
    "# Transform to WGS coordinates\n",
    "\n",
    "# get this file from https://ac.ngi.be/remoteclient-open/SDI/NGI-IGN/fb1e2993-2020-428c-9188-eb5f75e284b9_x-shapefile_31370.zip\n",
    "# or click through on https://data.gov.be/nl/node/41178\n",
    "gdf = gpd.read_file(\"./_data/adminvector72/AD_0_StatisticSector.shp\")\n",
    "\n",
    "# Convert the GeoDataFrame to WGS84 coordinate reference system\n",
    "gdf = gdf.to_crs({\"init\": \"epsg:4326\"})  # change projection to wgs84"
   ]
  },
  {
   "cell_type": "markdown",
   "metadata": {
    "Collapsed": "true"
   },
   "source": [
    "## Optimize code"
   ]
  },
  {
   "cell_type": "markdown",
   "metadata": {
    "Collapsed": "false"
   },
   "source": [
    "One of the data scientists discovered stackoverflow ;-) and copypasted something from https://gis.stackexchange.com/questions/166820/geopandas-return-lat-and-long-of-a-centroid-point\n",
    "A data science engineer should be able to speed this next code up\n",
    "\n",
    "```python\n",
    "for i in range(0, len(df)):\n",
    "    df.loc[i,'centroid_lon'] = df.geometry.centroid.x.iloc[i]\n",
    "    df.loc[i,'centroid_lat'] = df.geometry.centroid.y.iloc[i]\n",
    "```\n",
    "Do not run the code as-is it runs for more than 5min."
   ]
  },
  {
   "cell_type": "code",
   "execution_count": 24,
   "metadata": {
    "Collapsed": "false"
   },
   "outputs": [
    {
     "data": {
      "text/html": [
       "<div>\n",
       "<style scoped>\n",
       "    .dataframe tbody tr th:only-of-type {\n",
       "        vertical-align: middle;\n",
       "    }\n",
       "\n",
       "    .dataframe tbody tr th {\n",
       "        vertical-align: top;\n",
       "    }\n",
       "\n",
       "    .dataframe thead th {\n",
       "        text-align: right;\n",
       "    }\n",
       "</style>\n",
       "<table border=\"1\" class=\"dataframe\">\n",
       "  <thead>\n",
       "    <tr style=\"text-align: right;\">\n",
       "      <th></th>\n",
       "      <th>tgid</th>\n",
       "      <th>NISCode</th>\n",
       "      <th>ModifDate</th>\n",
       "      <th>Shape_Leng</th>\n",
       "      <th>Shape_Area</th>\n",
       "      <th>geometry</th>\n",
       "    </tr>\n",
       "  </thead>\n",
       "  <tbody>\n",
       "    <tr>\n",
       "      <th>0</th>\n",
       "      <td>{E06A6F81-19B0-4828-A47F-8955CCADA59A}</td>\n",
       "      <td>38016X0JQ</td>\n",
       "      <td>2019-10-30</td>\n",
       "      <td>4350.686986</td>\n",
       "      <td>912805.474484</td>\n",
       "      <td>POLYGON Z ((2.71622 51.15613 0.00000, 2.71707 ...</td>\n",
       "    </tr>\n",
       "  </tbody>\n",
       "</table>\n",
       "</div>"
      ],
      "text/plain": [
       "                                     tgid    NISCode   ModifDate   Shape_Leng  \\\n",
       "0  {E06A6F81-19B0-4828-A47F-8955CCADA59A}  38016X0JQ  2019-10-30  4350.686986   \n",
       "\n",
       "      Shape_Area                                           geometry  \n",
       "0  912805.474484  POLYGON Z ((2.71622 51.15613 0.00000, 2.71707 ...  "
      ]
     },
     "execution_count": 24,
     "metadata": {},
     "output_type": "execute_result"
    }
   ],
   "source": [
    "# explore geo dataframe\n",
    "gdf.shape\n",
    "gdf.head(1)\n",
    "\n",
    "# small test\n",
    "# df.geometry.centroid.x.iloc[1] returns 4.730839019187626"
   ]
  },
  {
   "cell_type": "code",
   "execution_count": 25,
   "metadata": {
    "Collapsed": "false"
   },
   "outputs": [
    {
     "name": "stdout",
     "output_type": "stream",
     "text": [
      "Wall time: 1.95 s\n"
     ]
    },
    {
     "data": {
      "text/html": [
       "<div>\n",
       "<style scoped>\n",
       "    .dataframe tbody tr th:only-of-type {\n",
       "        vertical-align: middle;\n",
       "    }\n",
       "\n",
       "    .dataframe tbody tr th {\n",
       "        vertical-align: top;\n",
       "    }\n",
       "\n",
       "    .dataframe thead th {\n",
       "        text-align: right;\n",
       "    }\n",
       "</style>\n",
       "<table border=\"1\" class=\"dataframe\">\n",
       "  <thead>\n",
       "    <tr style=\"text-align: right;\">\n",
       "      <th></th>\n",
       "      <th>tgid</th>\n",
       "      <th>NISCode</th>\n",
       "      <th>ModifDate</th>\n",
       "      <th>Shape_Leng</th>\n",
       "      <th>Shape_Area</th>\n",
       "      <th>geometry</th>\n",
       "      <th>centroid_lon</th>\n",
       "      <th>centroid_lat</th>\n",
       "    </tr>\n",
       "  </thead>\n",
       "  <tbody>\n",
       "    <tr>\n",
       "      <th>0</th>\n",
       "      <td>{E06A6F81-19B0-4828-A47F-8955CCADA59A}</td>\n",
       "      <td>38016X0JQ</td>\n",
       "      <td>2019-10-30</td>\n",
       "      <td>4350.686986</td>\n",
       "      <td>9.128055e+05</td>\n",
       "      <td>POLYGON Z ((2.71622 51.15613 0.00000, 2.71707 ...</td>\n",
       "      <td>2.709342</td>\n",
       "      <td>51.150769</td>\n",
       "    </tr>\n",
       "    <tr>\n",
       "      <th>1</th>\n",
       "      <td>{44CDC0F6-ED48-43E8-ABC2-69F5B1B7D734}</td>\n",
       "      <td>24094B09-</td>\n",
       "      <td>2019-10-30</td>\n",
       "      <td>24003.624570</td>\n",
       "      <td>4.213636e+06</td>\n",
       "      <td>POLYGON Z ((4.72660 50.98505 0.00000, 4.72696 ...</td>\n",
       "      <td>4.730839</td>\n",
       "      <td>50.977419</td>\n",
       "    </tr>\n",
       "    <tr>\n",
       "      <th>2</th>\n",
       "      <td>{7D81EA40-A405-4F74-B4BA-C98FA411CC29}</td>\n",
       "      <td>21001A53-</td>\n",
       "      <td>2019-10-30</td>\n",
       "      <td>1215.764322</td>\n",
       "      <td>8.969256e+04</td>\n",
       "      <td>POLYGON Z ((4.29324 50.83340 0.00000, 4.29337 ...</td>\n",
       "      <td>4.292727</td>\n",
       "      <td>50.831438</td>\n",
       "    </tr>\n",
       "  </tbody>\n",
       "</table>\n",
       "</div>"
      ],
      "text/plain": [
       "                                     tgid    NISCode   ModifDate  \\\n",
       "0  {E06A6F81-19B0-4828-A47F-8955CCADA59A}  38016X0JQ  2019-10-30   \n",
       "1  {44CDC0F6-ED48-43E8-ABC2-69F5B1B7D734}  24094B09-  2019-10-30   \n",
       "2  {7D81EA40-A405-4F74-B4BA-C98FA411CC29}  21001A53-  2019-10-30   \n",
       "\n",
       "     Shape_Leng    Shape_Area  \\\n",
       "0   4350.686986  9.128055e+05   \n",
       "1  24003.624570  4.213636e+06   \n",
       "2   1215.764322  8.969256e+04   \n",
       "\n",
       "                                            geometry  centroid_lon  \\\n",
       "0  POLYGON Z ((2.71622 51.15613 0.00000, 2.71707 ...      2.709342   \n",
       "1  POLYGON Z ((4.72660 50.98505 0.00000, 4.72696 ...      4.730839   \n",
       "2  POLYGON Z ((4.29324 50.83340 0.00000, 4.29337 ...      4.292727   \n",
       "\n",
       "   centroid_lat  \n",
       "0     51.150769  \n",
       "1     50.977419  \n",
       "2     50.831438  "
      ]
     },
     "execution_count": 25,
     "metadata": {},
     "output_type": "execute_result"
    }
   ],
   "source": [
    "%%time\n",
    "# replace the for loop, 2 new columns should be created\n",
    "gdf[\"centroid_lon\"] = gdf.geometry.centroid.x\n",
    "gdf[\"centroid_lat\"] = gdf.geometry.centroid.y\n",
    "gdf.head(3)"
   ]
  },
  {
   "cell_type": "markdown",
   "metadata": {
    "Collapsed": "true"
   },
   "source": [
    "## Haversine formula - distance function"
   ]
  },
  {
   "cell_type": "markdown",
   "metadata": {
    "Collapsed": "false"
   },
   "source": [
    "Haversine info:\n",
    "https://www.wikiwand.com/en/Haversine_formula  \n",
    "![](https://wikimedia.org/api/rest_v1/media/math/render/svg/a65dbbde43ff45bacd2505fcf32b44fc7dcd8cc0)  \n",
    "φ1, φ2: latitude of point 1 and latitude of point 2 (in radians),  \n",
    "λ1, λ2: longitude of point 1 and longitude of point 2 (in radians).  \n",
    "d is the distance between the two points along a great circle of the sphere  \n",
    "r is the radius of the sphere.  \n",
    "Because im lazy/efficient I also looked at https://github.com/mapado/haversine/blob/master/haversine/haversine.py"
   ]
  },
  {
   "cell_type": "code",
   "execution_count": 28,
   "metadata": {
    "Collapsed": "false"
   },
   "outputs": [],
   "source": [
    "_AVG_EARTH_RADIUS_KM = 6371.0088\n",
    "\n",
    "\n",
    "def haversine(lat1, lon1, lat2, lon2):\n",
    "    \"\"\" Calculate the great-circle distance (in km) between two points on the Earth surface.\n",
    "    Takes the latitude and longitude of each point in decimal degrees.\n",
    "    :param lat1: latitude of first point in decimal degrees\n",
    "    :param lon1: longitude of first point in decimal degrees\n",
    "    :param lat2: latitude of second point in decimal degrees\n",
    "    :param lon2: longitude of second point in decimal degrees\n",
    "    Example: ``haversine(45.7597, 4.8422, 48.8567, 2.3508)``\n",
    "    :return: the distance between the two points in km, as a float.\n",
    "    \"\"\"\n",
    "    # get earth radius in required units\n",
    "\n",
    "    avg_earth_radius = _AVG_EARTH_RADIUS_KM\n",
    "\n",
    "    lng1 = lon1\n",
    "    lng2 = lon2\n",
    "\n",
    "    # convert all latitudes/longitudes from decimal degrees to radians\n",
    "    lat1, lng1, lat2, lng2 = map(radians, (lat1, lng1, lat2, lng2))\n",
    "\n",
    "    # calculate d ( the distance between 2 points on a sphere, with the path following the curve of the sphere)\n",
    "    lat = lat2 - lat1\n",
    "    lng = lng2 - lng1\n",
    "\n",
    "    func = sin(lat * 0.5) ** 2 + cos(lat1) * cos(lat2) * sin(lng * 0.5) ** 2\n",
    "    d = 2 * avg_earth_radius * asin(sqrt(func))\n",
    "\n",
    "    return d"
   ]
  },
  {
   "cell_type": "markdown",
   "metadata": {
    "Collapsed": "false"
   },
   "source": [
    "Next, implement some sanity checks for your distance function "
   ]
  },
  {
   "cell_type": "code",
   "execution_count": 29,
   "metadata": {
    "Collapsed": "false"
   },
   "outputs": [],
   "source": [
    "# latitude range 0 - 90\n",
    "# longitude range 0 - 180\n",
    "\n",
    "# random input coordinates\n",
    "lat1 = 75.6\n",
    "lon1 = 170\n",
    "lat2 = 10\n",
    "lon2 = 10\n",
    "\n",
    "# The distance should always be smaller than half the circumference of the world !\n",
    "tc = unittest.TestCase(\"__init__\")\n",
    "\n",
    "half_earth_circumference = 2 * pi * _AVG_EARTH_RADIUS_KM / 2\n",
    "tc.assertTrue(\n",
    "    haversine(lat1, lon1, lat2, lon2) < half_earth_circumference,\n",
    "    f\" great-circle distance between 2 points is bigger than half_earth_circumference\",\n",
    ")\n",
    "tc.assertTrue(\n",
    "    haversine(lat1, lon1, lat2, lon2) > 0, f\" great-circle distance is negative\"\n",
    ")\n",
    "\n",
    "# half_earth_circumference\n",
    "# haversine(lat1, lon1, lat2, lon2)"
   ]
  },
  {
   "cell_type": "markdown",
   "metadata": {
    "Collapsed": "true"
   },
   "source": [
    "## Stores and nis-districts close to location of interest"
   ]
  },
  {
   "cell_type": "code",
   "execution_count": 40,
   "metadata": {
    "Collapsed": "false"
   },
   "outputs": [],
   "source": [
    "# Let's create some variables to indicate the location of your interest\n",
    "# Data points from GoogleMaps URL\n",
    "home_lat = 50.873769\n",
    "home_lon = 4.712944\n",
    "perimeter_distance = 2  # km"
   ]
  },
  {
   "cell_type": "code",
   "execution_count": 41,
   "metadata": {
    "Collapsed": "false"
   },
   "outputs": [],
   "source": [
    "# Figure out which nis districts are near your home\n",
    "# calculate the distance\n",
    "gdf[\"distance\"] = gdf[[\"centroid_lat\", \"centroid_lon\"]].apply(\n",
    "    lambda x: haversine(x.centroid_lat, x.centroid_lon, home_lat, home_lon), axis=1\n",
    ")\n",
    "# Notes\n",
    "# How to apply a function using 2 columns as input of a pandas df - https://stackoverflow.com/a/52854800/3056345\n",
    "# Can this be optimized? Currently not required\n",
    "\n",
    "# nis districts near my home\n",
    "gdf_nis_centroid_close_by = gdf[gdf[\"distance\"] < perimeter_distance]"
   ]
  },
  {
   "cell_type": "code",
   "execution_count": 42,
   "metadata": {
    "Collapsed": "false"
   },
   "outputs": [
    {
     "data": {
      "text/html": [
       "<div>\n",
       "<style scoped>\n",
       "    .dataframe tbody tr th:only-of-type {\n",
       "        vertical-align: middle;\n",
       "    }\n",
       "\n",
       "    .dataframe tbody tr th {\n",
       "        vertical-align: top;\n",
       "    }\n",
       "\n",
       "    .dataframe thead th {\n",
       "        text-align: right;\n",
       "    }\n",
       "</style>\n",
       "<table border=\"1\" class=\"dataframe\">\n",
       "  <thead>\n",
       "    <tr style=\"text-align: right;\">\n",
       "      <th></th>\n",
       "      <th>store</th>\n",
       "      <th>lat</th>\n",
       "      <th>lon</th>\n",
       "      <th>address.streetName</th>\n",
       "      <th>address.houseNumber</th>\n",
       "      <th>address.postalcode</th>\n",
       "      <th>address.cityName</th>\n",
       "      <th>address.countryName</th>\n",
       "      <th>moreInfoUrl</th>\n",
       "      <th>distance</th>\n",
       "    </tr>\n",
       "    <tr>\n",
       "      <th>placeId</th>\n",
       "      <th></th>\n",
       "      <th></th>\n",
       "      <th></th>\n",
       "      <th></th>\n",
       "      <th></th>\n",
       "      <th></th>\n",
       "      <th></th>\n",
       "      <th></th>\n",
       "      <th></th>\n",
       "      <th></th>\n",
       "    </tr>\n",
       "  </thead>\n",
       "  <tbody>\n",
       "    <tr>\n",
       "      <th>440</th>\n",
       "      <td>KESSEL-LO (COLRUYT)</td>\n",
       "      <td>50.870874</td>\n",
       "      <td>4.726720</td>\n",
       "      <td>TIENSESTEENWEG</td>\n",
       "      <td>237</td>\n",
       "      <td>3010</td>\n",
       "      <td>KESSEL-LO</td>\n",
       "      <td>België</td>\n",
       "      <td>https://www.colruyt.be/nl/colruyt-openingsuren...</td>\n",
       "      <td>1.018842</td>\n",
       "    </tr>\n",
       "    <tr>\n",
       "      <th>684</th>\n",
       "      <td>LEUVEN (COLRUYT)</td>\n",
       "      <td>50.884092</td>\n",
       "      <td>4.701339</td>\n",
       "      <td>LOMBAARDENSTRAAT</td>\n",
       "      <td>2</td>\n",
       "      <td>3000</td>\n",
       "      <td>LEUVEN</td>\n",
       "      <td>België</td>\n",
       "      <td>https://www.colruyt.be/nl/colruyt-openingsuren...</td>\n",
       "      <td>1.407313</td>\n",
       "    </tr>\n",
       "  </tbody>\n",
       "</table>\n",
       "</div>"
      ],
      "text/plain": [
       "                       store        lat       lon address.streetName  \\\n",
       "placeId                                                                \n",
       "440      KESSEL-LO (COLRUYT)  50.870874  4.726720     TIENSESTEENWEG   \n",
       "684         LEUVEN (COLRUYT)  50.884092  4.701339   LOMBAARDENSTRAAT   \n",
       "\n",
       "        address.houseNumber  address.postalcode address.cityName  \\\n",
       "placeId                                                            \n",
       "440                     237                3010        KESSEL-LO   \n",
       "684                       2                3000           LEUVEN   \n",
       "\n",
       "        address.countryName  \\\n",
       "placeId                       \n",
       "440                  België   \n",
       "684                  België   \n",
       "\n",
       "                                               moreInfoUrl  distance  \n",
       "placeId                                                               \n",
       "440      https://www.colruyt.be/nl/colruyt-openingsuren...  1.018842  \n",
       "684      https://www.colruyt.be/nl/colruyt-openingsuren...  1.407313  "
      ]
     },
     "execution_count": 42,
     "metadata": {},
     "output_type": "execute_result"
    }
   ],
   "source": [
    "# Which 5 stores (from the Data Ingestion excercise) are closest to my home and what is the bird's flight distance?\n",
    "\n",
    "df_stores = df_clp.rename(\n",
    "    columns={\n",
    "        \"commercialName\": \"store\",\n",
    "        \"geoCoordinates.latitude\": \"lat\",\n",
    "        \"geoCoordinates.longitude\": \"lon\",\n",
    "    }\n",
    ")[\n",
    "    [\n",
    "        \"store\",\n",
    "        \"lat\",\n",
    "        \"lon\",\n",
    "        \"address.streetName\",\n",
    "        \"address.houseNumber\",\n",
    "        \"address.postalcode\",\n",
    "        \"address.cityName\",\n",
    "        \"address.countryName\",\n",
    "        \"moreInfoUrl\",\n",
    "    ]\n",
    "]\n",
    "\n",
    "df_stores[\"distance\"] = df_stores[[\"lat\", \"lon\"]].apply(\n",
    "    lambda x: haversine(x.lat, x.lon, home_lat, home_lon), axis=1\n",
    ")\n",
    "\n",
    "df_stores = df_stores.sort_values(by=\"distance\", ascending=True).iloc[:5]\n",
    "\n",
    "df_stores.head(2)"
   ]
  },
  {
   "cell_type": "markdown",
   "metadata": {
    "Collapsed": "true"
   },
   "source": [
    "## Interactive map"
   ]
  },
  {
   "cell_type": "code",
   "execution_count": 43,
   "metadata": {
    "Collapsed": "false"
   },
   "outputs": [
    {
     "data": {
      "text/html": [
       "<div style=\"width:100%;\"><div style=\"position:relative;width:100%;height:0;padding-bottom:60%;\"><iframe src=\"data:text/html;charset=utf-8;base64,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\" style=\"position:absolute;width:100%;height:100%;left:0;top:0;border:none !important;\" allowfullscreen webkitallowfullscreen mozallowfullscreen></iframe></div></div>"
      ],
      "text/plain": [
       "<folium.folium.Map at 0x1d6d86aaec8>"
      ]
     },
     "execution_count": 43,
     "metadata": {},
     "output_type": "execute_result"
    }
   ],
   "source": [
    "home = [home_lat, home_lon]\n",
    "\n",
    "# create base map\n",
    "m = folium.Map(location=home, tiles=\"OpenStreetMap\", zoom_start=14)\n",
    "\n",
    "# add home marker\n",
    "folium.Marker(location=home, tooltip=\"home\").add_to(m)\n",
    "\n",
    "# add perimeter\n",
    "folium.Circle(\n",
    "    location=home,\n",
    "    color=\"#3186cc\",\n",
    "    fill=False,\n",
    "    # fill_color='#3186cc',\n",
    "    tooltip=f\"{perimeter_distance}km perimeter from home\",\n",
    "    radius=perimeter_distance * 1000,\n",
    ").add_to(m)\n",
    "\n",
    "# add nis centroids\n",
    "centroids = zip(\n",
    "    gdf_nis_centroid_close_by.centroid_lat, gdf_nis_centroid_close_by.centroid_lon\n",
    ")\n",
    "for centroid in centroids:\n",
    "    folium.CircleMarker(location=centroid, color=\"red\", radius=1).add_to(m)\n",
    "\n",
    "# add nis polygon area\n",
    "folium.Choropleth(\n",
    "    geo_data=gdf_nis_centroid_close_by.to_json(),\n",
    "    line_color=\"grey\",\n",
    "    line_weight=3,\n",
    "    line_opacity=0.8,\n",
    "    fill_color=\"grey\",\n",
    "    fill_opacity=0.2,\n",
    "    smooth_factor=2.0,  # default: 1.0 More means better performance and smoother look, and less means more accurate representation\n",
    "    name=\"nis area\",\n",
    "    overlay=True,\n",
    "    control=True,\n",
    "    show=True,\n",
    ").add_to(m)\n",
    "\n",
    "folium.LayerControl().add_to(m)\n",
    "\n",
    "# add stores with popup info\n",
    "for index, store in df_stores.iterrows():\n",
    "    popup_html = f\"\"\"\n",
    "                {store.store}                \n",
    "                <br><br>bird's-eye distance: {round(store.distance,1)}km\n",
    "                <br><br>{store['address.streetName']}&nbsp;{store['address.houseNumber']}               \n",
    "                <br>{store['address.postalcode']} {store['address.cityName']}                \n",
    "                <br><br><a href=\"{store.moreInfoUrl}\">opening hours</a>                \n",
    "            \"\"\"\n",
    "    popup = folium.Popup(popup_html, min_width=1200, close_button=True)\n",
    "    folium.Marker(\n",
    "        location=(store.lat, store.lon),\n",
    "        tooltip=f\"{store.store}\",\n",
    "        popup=popup,\n",
    "        icon=folium.Icon(color=\"orange\", prefix=\"fa\", icon=\"shopping-cart\"),\n",
    "    ).add_to(m)\n",
    "\n",
    "# show map\n",
    "m"
   ]
  }
 ],
 "metadata": {
  "kernelspec": {
   "display_name": "Python 3",
   "language": "python",
   "name": "python3"
  },
  "language_info": {
   "codemirror_mode": {
    "name": "ipython",
    "version": 3
   },
   "file_extension": ".py",
   "mimetype": "text/x-python",
   "name": "python",
   "nbconvert_exporter": "python",
   "pygments_lexer": "ipython3",
   "version": "3.7.5"
  },
  "toc-showtags": false
 },
 "nbformat": 4,
 "nbformat_minor": 4
}
