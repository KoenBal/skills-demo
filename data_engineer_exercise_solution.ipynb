{
 "cells": [
  {
   "cell_type": "markdown",
   "metadata": {
    "Collapsed": "true"
   },
   "source": [
    "# notebook settings"
   ]
  },
  {
   "cell_type": "code",
   "execution_count": null,
   "metadata": {
    "Collapsed": "false"
   },
   "outputs": [],
   "source": [
    "# automatic code formating is available using the extension jupyterlab_code_formatter \n",
    "# the formatter is set to black (PEP 8 compliant)\n",
    "\n",
    "# display full output when running a cell instead of only the last result\n",
    "from IPython.core.interactiveshell import InteractiveShell\n",
    "\n",
    "InteractiveShell.ast_node_interactivity = \"last\"\n",
    "\n",
    "# interactively display json\n",
    "from IPython.display import JSON"
   ]
  },
  {
   "cell_type": "markdown",
   "metadata": {
    "Collapsed": "true"
   },
   "source": [
    "# Evaluation criteria"
   ]
  },
  {
   "cell_type": "markdown",
   "metadata": {
    "Collapsed": "false"
   },
   "source": [
    "The goal of this assignment is to get a view on your hands-on \"data engineering\" skills.  \n",
    "At our company, our data scientists and engineers collaborate on projects.  \n",
    "Your main focus will be creating performant & robust data flows.  \n",
    "For a take-home-assignment, we cannot grant you access to our infrastructure.  \n",
    "The assignement below measures your proficiency in general programming, data science & engineering tasks using python.  \n",
    "Completion should not take more than half a day.\n",
    "\n",
    "**We expect you to be proficient in:**\n",
    " * SQL queries (Sybase IQ system)\n",
    " * ETL flows (In collaboration with existing teams)\n",
    " * General python to glue it all together\n",
    " * Python data science ecosystem (Pandas + SKlearn)\n",
    " \n",
    "**In this exercise we expect you to demonstrate your ability to / knowledge of:**\n",
    " * Building a data science runtime\n",
    " * PEP8 / Google python styleguide\n",
    " * Efficiently getting the job done\n",
    " * Choose meaningfull names for variables & functions\n",
    " * Writing maintainable code (yes, you might need to document some steps)\n",
    " * Help a data scientist present interactive results.\n",
    " * Offer predictions via REST api"
   ]
  },
  {
   "cell_type": "markdown",
   "metadata": {
    "Collapsed": "true"
   },
   "source": [
    "# Deliverables"
   ]
  },
  {
   "cell_type": "markdown",
   "metadata": {
    "Collapsed": "false"
   },
   "source": [
    "- X setup a datascience environment in the cloud\n",
    "- X make code PEP8 compliant using black\n",
    "- X Efficiently getting the job done\n",
    "- X Choose meaningfull names for variables & functions\n",
    "- X document\n",
    "- X Help a data scientist present interactive results.\n",
    "- X Offer predictions via REST api (cloud and local)\n",
    "- X improve notebook layout\n",
    "\n",
    "- X notebook with the completed assignment\n",
    "- X list of packages for your runtime (e.g. yml or txt file)\n",
    "- X evidence of a working API endpoint"
   ]
  },
  {
   "cell_type": "markdown",
   "metadata": {
    "Collapsed": "true"
   },
   "source": [
    "# Setup a datascience environment in the cloud"
   ]
  },
  {
   "cell_type": "markdown",
   "metadata": {
    "Collapsed": "false"
   },
   "source": [
    "Information about the Jupyter Lab environment you are currently working in:    \n",
    "    - hosted on mybinder.org  \n",
    "    - does not store the changes you make  \n",
    "    - has custom jupyter lab extensions installed (ToC, collapsible_headings, jupyterlab_code_formatter, ...)  \n",
    "    - binder setup files are available in the binder folder  \n",
    "    "
   ]
  },
  {
   "cell_type": "markdown",
   "metadata": {
    "Collapsed": "true",
    "toc-hr-collapsed": true
   },
   "source": [
    "# Excercise - Data ingestion"
   ]
  },
  {
   "cell_type": "markdown",
   "metadata": {
    "Collapsed": "true"
   },
   "source": [
    "## Imports"
   ]
  },
  {
   "cell_type": "code",
   "execution_count": null,
   "metadata": {
    "Collapsed": "false"
   },
   "outputs": [],
   "source": [
    "import pandas as pd\n",
    "from pandas.io.json import json_normalize\n",
    "import numpy as np\n",
    "import joblib\n",
    "\n",
    "import requests\n",
    "import json\n",
    "from pprint import pprint\n",
    "import unittest"
   ]
  },
  {
   "cell_type": "markdown",
   "metadata": {
    "Collapsed": "true",
    "toc-hr-collapsed": true
   },
   "source": [
    "## Getting store location data from an API"
   ]
  },
  {
   "cell_type": "markdown",
   "metadata": {
    "Collapsed": "true"
   },
   "source": [
    "### Get data"
   ]
  },
  {
   "cell_type": "markdown",
   "metadata": {
    "Collapsed": "false"
   },
   "source": [
    "**Goal:** Obtain a pandas dataframe  \n",
    "**Hint:** You will need to normalise/flatten the json, because it contains multiple levels  \n",
    "**API call:** https://ecgplacesmw.colruytgroup.com/ecgplacesmw/v3/nl/places/filter/clp-places  "
   ]
  },
  {
   "cell_type": "markdown",
   "metadata": {
    "Collapsed": "true"
   },
   "source": [
    "### Explore the api"
   ]
  },
  {
   "cell_type": "code",
   "execution_count": null,
   "metadata": {
    "Collapsed": "false"
   },
   "outputs": [],
   "source": [
    "url = \"https://ecgplacesmw.colruytgroup.com/ecgplacesmw/v3/nl/places/filter/clp-places\"\n",
    "resp = requests.get(url)\n",
    "d = resp.json()  # d is a list of dictionaries\n",
    "df = json_normalize(data=d, sep=\".\")"
   ]
  },
  {
   "cell_type": "code",
   "execution_count": null,
   "metadata": {
    "Collapsed": "false"
   },
   "outputs": [],
   "source": [
    "# explore data\n",
    "JSON(d[0])"
   ]
  },
  {
   "cell_type": "code",
   "execution_count": null,
   "metadata": {
    "Collapsed": "false"
   },
   "outputs": [],
   "source": [
    "df.shape"
   ]
  },
  {
   "cell_type": "code",
   "execution_count": null,
   "metadata": {
    "Collapsed": "false"
   },
   "outputs": [],
   "source": [
    "# set an index?\n",
    "# df.placeId.nunique()\n",
    "df.set_index(\"placeId\", drop=True, inplace=True)\n",
    "# optimize memory-usage by changing dtypes?\n",
    "# df.dtypes\n",
    "# not required, memory is not an issue"
   ]
  },
  {
   "cell_type": "code",
   "execution_count": null,
   "metadata": {
    "Collapsed": "false"
   },
   "outputs": [],
   "source": [
    "df.head(2)"
   ]
  },
  {
   "cell_type": "markdown",
   "metadata": {
    "Collapsed": "true"
   },
   "source": [
    "### Create a function to get the data"
   ]
  },
  {
   "cell_type": "code",
   "execution_count": null,
   "metadata": {
    "Collapsed": "false"
   },
   "outputs": [],
   "source": [
    "def get_clp_places(url):\n",
    "    resp = requests.get(url)\n",
    "    d = resp.json()\n",
    "    df = json_normalize(data=d, sep=\".\")\n",
    "    df.set_index(\"placeId\", drop=True, inplace=True)\n",
    "    # optimize memory-usage by changing dtypes\n",
    "    # memory is not an issue, changing dtypes is not yet required\n",
    "    return df\n",
    "\n",
    "\n",
    "url = \"https://ecgplacesmw.colruytgroup.com/ecgplacesmw/v3/nl/places/filter/clp-places\"\n",
    "df_clp = get_clp_places(url)\n",
    "df_clp.head(2)"
   ]
  },
  {
   "cell_type": "markdown",
   "metadata": {
    "Collapsed": "true"
   },
   "source": [
    "### Check data quality"
   ]
  },
  {
   "cell_type": "markdown",
   "metadata": {
    "Collapsed": "false"
   },
   "source": [
    "We would like you to add several checks on this data based on these constraints:  \n",
    " * records > 200\n",
    " * latitude between 49 and 52\n",
    " * longitude between 2 and 7\n",
    " \n",
    "We dont want you to create a full blown test suite here, we're just gonna use 'asserts' from unittest"
   ]
  },
  {
   "cell_type": "code",
   "execution_count": null,
   "metadata": {
    "Collapsed": "false"
   },
   "outputs": [],
   "source": [
    "records_min = 200\n",
    "latitude_min = 49\n",
    "latitude_max = 52\n",
    "longitude_min = 4\n",
    "# longitude_min = 2\n",
    "longitude_max = 7\n",
    "tc = unittest.TestCase(\"__init__\")\n",
    "\n",
    "# check records len\n",
    "tc.assertTrue(len(df_clp.index) > records_min, f\"less than {records_min} records\")\n",
    "\n",
    "\n",
    "def test_range(test_name, series, range_min=None, range_max=None):\n",
    "    tc.assertTrue(\n",
    "        series.min() > range_min, f\"{test_name} ({series.min()}) < minimum({range_min})\"\n",
    "    )\n",
    "    tc.assertTrue(\n",
    "        series.max() < range_max, f\"{test_name} ({series.max()}) > maximum({range_max})\"\n",
    "    )\n",
    "\n",
    "\n",
    "# check latitude range\n",
    "test_range(\n",
    "    test_name=\"latitude\",\n",
    "    series=df_clp[\"geoCoordinates.latitude\"],\n",
    "    range_min=latitude_min,\n",
    "    range_max=latitude_max,\n",
    ")\n",
    "\n",
    "# check longitude range\n",
    "test_range(\n",
    "    test_name=\"longitude\",\n",
    "    series=df_clp[\"geoCoordinates.longitude\"],\n",
    "    range_min=longitude_min,\n",
    "    range_max=longitude_max,\n",
    ")\n",
    "\n",
    "# further improvement, return the placeId on a False"
   ]
  },
  {
   "cell_type": "markdown",
   "metadata": {
    "Collapsed": "true"
   },
   "source": [
    "### Feature creation\n",
    "\n",
    "Create a new column \"antwerpen\" which is 1 for all stores in Antwerpen (province) and 0 for all others "
   ]
  },
  {
   "cell_type": "code",
   "execution_count": null,
   "metadata": {
    "Collapsed": "false"
   },
   "outputs": [],
   "source": [
    "# Should a selection be done on 'placeType.longName'?\n",
    "# df_clp['placeType.longName'].unique()\n",
    "# No, the places are all \"winkel\"\n",
    "# What is the province field?\n",
    "# a province field does not exist!?\n",
    "# Use the postcode to check for the province?\n",
    "# on wikipedia https://www.wikiwand.com/en/List_of_postal_codes_in_Belgium -> Antwerp postcodes: 2000-2999\n",
    "\n",
    "df_clp[\"address.postalcode\"] = df_clp[\"address.postalcode\"].astype(\"int32\")\n",
    "df_clp[\"antwerpen\"] = np.where(\n",
    "    (df_clp[\"address.postalcode\"] >= 2000) & (df_clp[\"address.postalcode\"] <= 2999),\n",
    "    1,\n",
    "    0,\n",
    ")\n",
    "\n",
    "# data quality check\n",
    "df_clp[\"antwerpen\"].value_counts()"
   ]
  },
  {
   "cell_type": "markdown",
   "metadata": {
    "Collapsed": "true",
    "toc-hr-collapsed": true
   },
   "source": [
    "# Excercise - REST-api for an ML-model"
   ]
  },
  {
   "cell_type": "markdown",
   "metadata": {
    "Collapsed": "true"
   },
   "source": [
    "### ML model checks"
   ]
  },
  {
   "cell_type": "markdown",
   "metadata": {
    "Collapsed": "false"
   },
   "source": [
    "A datascientist made a basic model to predict car prices.  \n",
    "The model was saved to disk ('lgbr_cars.model') using joblib's dump fuctionality.  \n",
    "Documentation states the model is a LightGBM Regressor, trained using the sk-learn api."
   ]
  },
  {
   "cell_type": "code",
   "execution_count": null,
   "metadata": {
    "Collapsed": "false"
   },
   "outputs": [],
   "source": [
    "def retrieve_model(path):\n",
    "    trained_model = joblib.load(path)\n",
    "    return trained_model\n",
    "\n",
    "\n",
    "lgbr_cars = retrieve_model(\"rest_api/lgbr_cars.model\")\n",
    "\n",
    "# check the class of the model\n",
    "tc = unittest.TestCase(\"__init__\")\n",
    "tc.assertEqual(\n",
    "    str(type(lgbr_cars)), \"<class 'lightgbm.sklearn.LGBMRegressor'>\", type(lgbr_cars)\n",
    ")"
   ]
  },
  {
   "cell_type": "markdown",
   "metadata": {
    "Collapsed": "false"
   },
   "source": [
    "Functional test of the trained model.  \n",
    "Parameters:\n",
    "\n",
    "* vehicleType: coupe\n",
    "* gearbox: manuell\n",
    "* powerPS: 190\n",
    "* model: NaN\n",
    "* kilometer: 125000\n",
    "* monthOfRegistration: 5 \n",
    "* fuelType: diesel\n",
    "* brand: audi\n",
    "\n",
    "Based on these parameters, you should get a predicted value of 14026.35068804  \n",
    "However, the model doesnt accept string inputs, see the integer encoding below:"
   ]
  },
  {
   "cell_type": "code",
   "execution_count": null,
   "metadata": {
    "Collapsed": "false"
   },
   "outputs": [],
   "source": [
    "model_test_input = [[3, 1, 190, -1, 125000, 5, 3, 1]]"
   ]
  },
  {
   "cell_type": "code",
   "execution_count": null,
   "metadata": {
    "Collapsed": "false"
   },
   "outputs": [],
   "source": [
    "def make_prediction(trained_model, single_input):\n",
    "    predicted_value = trained_model.predict(single_input)[0]\n",
    "    return predicted_value\n",
    "\n",
    "\n",
    "predicted_value = make_prediction(lgbr_cars, model_test_input)\n",
    "\n",
    "tc.assertAlmostEqual(predicted_value, 14026.35, places=2)"
   ]
  },
  {
   "cell_type": "markdown",
   "metadata": {
    "Collapsed": "true"
   },
   "source": [
    "### REST api"
   ]
  },
  {
   "cell_type": "markdown",
   "metadata": {
    "Collapsed": "true"
   },
   "source": [
    "#### API Creation  \n"
   ]
  },
  {
   "cell_type": "markdown",
   "metadata": {},
   "source": [
    "The lgbr_cars model REST api code is available in the car_price_prediction_app.py file."
   ]
  },
  {
   "cell_type": "markdown",
   "metadata": {
    "Collapsed": "true"
   },
   "source": [
    "#### API deployment"
   ]
  },
  {
   "cell_type": "markdown",
   "metadata": {
    "Collapsed": "false"
   },
   "source": [
    "not in scope:\n",
    "- authentication\n",
    "- nicely structured inputs\n",
    "\n",
    "**AWS deployment**  \n",
    "The API is deployed as a Dockerized Flask web-app on AWS Elastic Beanstalk.  \n",
    "The rest_api\\Dockerfile is used for the EB deployment.\n",
    "Documentation is automatically generated and available at the below url. Just paste the url in the browser and the website will return documentation.\n",
    "\n",
    "REST api details:   \n",
    "url: http://skills-demo-ml-model-api.koenbal.com  \n",
    "Should the url not work. Contact me to launch the server again.\n",
    "\n",
    "**Local deployment**  \n",
    "REST api details: \n",
    "- start a terminal\n",
    "- activate the conda enviroment\n",
    "- run \"rest_api/python car_price_prediction_app.py\"\n",
    "- the REST api is up and running\n",
    "- test the api using the test instructions below\n",
    "- shutdown the api \"CTRL+c\" in the terminal\n",
    "\n"
   ]
  },
  {
   "cell_type": "markdown",
   "metadata": {
    "Collapsed": "true"
   },
   "source": [
    "#### Testing the API"
   ]
  },
  {
   "cell_type": "markdown",
   "metadata": {
    "Collapsed": "false"
   },
   "source": [
    "The REST api can be tested using the following input and output:  \n",
    "[-1,1,0,118,150000,0,1,38] ==> prediction should be 13920.70\n",
    "\n",
    "You can use Postman, curl or Python to test the API.  \n",
    "[Postman](https://www.getpostman.com/)\n",
    "\n",
    "**Curl:**\n",
    "```bash\n",
    "curl -d '{\"single_input\": [-1, 1, 0, 118, 150000, 0, 1, 38]}' -H \"Content-Type: application/json\" -X POST <url>\n",
    "```\n",
    "\n",
    "**Python:** "
   ]
  },
  {
   "cell_type": "code",
   "execution_count": null,
   "metadata": {
    "Collapsed": "false"
   },
   "outputs": [],
   "source": [
    "url = \"http://127.0.0.2:5000/predict\"\n",
    "data = {\"single_input\": [-1, 1, 0, 118, 150000, 0, 1, 38]}\n",
    "j_data = json.dumps(data)\n",
    "headers = {\"content-type\": \"application/json\", \"Accept-Charset\": \"UTF-8\"}\n",
    "r = requests.post(url, data=j_data, headers=headers)\n",
    "# print(r)\n",
    "print(r.json())"
   ]
  },
  {
   "cell_type": "markdown",
   "metadata": {
    "Collapsed": "true",
    "toc-hr-collapsed": true
   },
   "source": [
    "# Excercise - Visualization of geospatial data"
   ]
  },
  {
   "cell_type": "markdown",
   "metadata": {
    "Collapsed": "false",
    "toc-hr-collapsed": false
   },
   "source": [
    "The goal of this exercise is to read in some data from a shape file and visualize it on a map\n",
    "- The map should be dynamic. I want to zoom in and out to see more interesting aspects of the map\n",
    "- We want you to visualize the statistical sectors within a distance of 2KM of your home location.\n",
    "\n",
    "Specific steps to take:\n",
    "- Read in the shape file\n",
    "- Transform to WGS coordinates\n",
    "- Create a distance function (Haversine)\n",
    "- Create variables for home_lat, home_lon and perimeter_distance\n",
    "- Calculate centroid for each nis district\n",
    "- Calculate the distance to home for each nis district centroid \n",
    "- Figure out which nis districts are near your home\n",
    "- Create dynamic zoomable map\n",
    "- Visualize the nis districts near you (centroid <2km away), on the map\n"
   ]
  },
  {
   "cell_type": "markdown",
   "metadata": {
    "Collapsed": "true"
   },
   "source": [
    "## imports"
   ]
  },
  {
   "cell_type": "code",
   "execution_count": null,
   "metadata": {
    "Collapsed": "false"
   },
   "outputs": [],
   "source": [
    "import pandas\n",
    "import geopandas as gpd\n",
    "import folium\n",
    "from math import radians, cos, sin, asin, sqrt, pi"
   ]
  },
  {
   "cell_type": "markdown",
   "metadata": {
    "Collapsed": "true"
   },
   "source": [
    "## Read data"
   ]
  },
  {
   "cell_type": "markdown",
   "metadata": {
    "Collapsed": "false"
   },
   "source": [
    "Get the data file from  \n",
    "https://ac.ngi.be/remoteclient-open/SDI/NGI-IGN/fb1e2993-2020-428c-9188-eb5f75e284b9_x-shapefile_31370.zip\n",
    "or click through on  \n",
    "https://data.gov.be/nl/node/41178\n",
    "\n",
    "The data file is already downloaded during the setup of this binder and is available under _data.\n",
    "The following bash code was used.\n",
    "```bash\n",
    "sudo apt install unzip\n",
    "curl --output shapefiles.zip https://ac.ngi.be/remoteclient-open/SDI/NGI-IGN/fb1e2993-2020-428c-9188-eb5f75e284b9_x-shapefile_31370.zip\n",
    "mkdir _data\n",
    "unzip shapefiles.zip -d _data\n",
    "rm shapefile.zip\n",
    "```\n"
   ]
  },
  {
   "cell_type": "code",
   "execution_count": null,
   "metadata": {
    "Collapsed": "false"
   },
   "outputs": [],
   "source": [
    "# Read in the shape file\n",
    "# Transform to WGS coordinates\n",
    "gdf = gpd.read_file(\"./_data/adminvector72/AD_0_StatisticSector.shp\")\n",
    "\n",
    "# Convert the GeoDataFrame to WGS84 coordinate reference system\n",
    "gdf = gdf.to_crs(\"epsg:4326\")  # change projection to wgs84"
   ]
  },
  {
   "cell_type": "markdown",
   "metadata": {
    "Collapsed": "true"
   },
   "source": [
    "## Optimize code"
   ]
  },
  {
   "cell_type": "markdown",
   "metadata": {
    "Collapsed": "false"
   },
   "source": [
    "One of the data scientists discovered stackoverflow ;-) and copypasted something from https://gis.stackexchange.com/questions/166820/geopandas-return-lat-and-long-of-a-centroid-point\n",
    "A data science engineer should be able to speed this next code up\n",
    "\n",
    "```python\n",
    "for i in range(0, len(df)):\n",
    "    df.loc[i,'centroid_lon'] = df.geometry.centroid.x.iloc[i]\n",
    "    df.loc[i,'centroid_lat'] = df.geometry.centroid.y.iloc[i]\n",
    "```\n",
    "Do not run the code as-is it runs for more than 5min."
   ]
  },
  {
   "cell_type": "code",
   "execution_count": null,
   "metadata": {
    "Collapsed": "false"
   },
   "outputs": [],
   "source": [
    "# explore geo dataframe\n",
    "gdf.shape\n",
    "gdf.head(1)\n",
    "\n",
    "# small test\n",
    "# df.geometry.centroid.x.iloc[1] returns 4.730839019187626"
   ]
  },
  {
   "cell_type": "code",
   "execution_count": null,
   "metadata": {
    "Collapsed": "false"
   },
   "outputs": [],
   "source": [
    "%%time\n",
    "# replace the for loop, 2 new columns should be created\n",
    "gdf[\"centroid_lon\"] = gdf.geometry.centroid.x\n",
    "gdf[\"centroid_lat\"] = gdf.geometry.centroid.y\n",
    "gdf.head(3)"
   ]
  },
  {
   "cell_type": "markdown",
   "metadata": {
    "Collapsed": "true"
   },
   "source": [
    "## Haversine formula - distance function"
   ]
  },
  {
   "cell_type": "markdown",
   "metadata": {
    "Collapsed": "false"
   },
   "source": [
    "Haversine info:\n",
    "https://www.wikiwand.com/en/Haversine_formula  \n",
    "![](https://wikimedia.org/api/rest_v1/media/math/render/svg/a65dbbde43ff45bacd2505fcf32b44fc7dcd8cc0)  \n",
    "φ1, φ2: latitude of point 1 and latitude of point 2 (in radians),  \n",
    "λ1, λ2: longitude of point 1 and longitude of point 2 (in radians).  \n",
    "d is the distance between the two points along a great circle of the sphere  \n",
    "r is the radius of the sphere.  \n",
    "Because im lazy/efficient I also looked at https://github.com/mapado/haversine/blob/master/haversine/haversine.py"
   ]
  },
  {
   "cell_type": "code",
   "execution_count": null,
   "metadata": {
    "Collapsed": "false",
    "scrolled": true
   },
   "outputs": [],
   "source": [
    "_AVG_EARTH_RADIUS_KM = 6371.0088\n",
    "\n",
    "\n",
    "def haversine(lat1, lon1, lat2, lon2):\n",
    "    \"\"\" Calculate the great-circle distance (in km) between two points on the Earth surface.\n",
    "    Takes the latitude and longitude of each point in decimal degrees.\n",
    "    :param lat1: latitude of first point in decimal degrees\n",
    "    :param lon1: longitude of first point in decimal degrees\n",
    "    :param lat2: latitude of second point in decimal degrees\n",
    "    :param lon2: longitude of second point in decimal degrees\n",
    "    Example: ``haversine(45.7597, 4.8422, 48.8567, 2.3508)``\n",
    "    :return: the distance between the two points in km, as a float.\n",
    "    \"\"\"\n",
    "    # get earth radius in required units\n",
    "\n",
    "    avg_earth_radius = _AVG_EARTH_RADIUS_KM\n",
    "\n",
    "    lng1 = lon1\n",
    "    lng2 = lon2\n",
    "\n",
    "    # convert all latitudes/longitudes from decimal degrees to radians\n",
    "    lat1, lng1, lat2, lng2 = map(radians, (lat1, lng1, lat2, lng2))\n",
    "\n",
    "    # calculate d ( the distance between 2 points on a sphere, with the path following the curve of the sphere)\n",
    "    lat = lat2 - lat1\n",
    "    lng = lng2 - lng1\n",
    "\n",
    "    func = sin(lat * 0.5) ** 2 + cos(lat1) * cos(lat2) * sin(lng * 0.5) ** 2\n",
    "    d = 2 * avg_earth_radius * asin(sqrt(func))\n",
    "\n",
    "    return d"
   ]
  },
  {
   "cell_type": "markdown",
   "metadata": {
    "Collapsed": "false"
   },
   "source": [
    "Next, implement some sanity checks for your distance function "
   ]
  },
  {
   "cell_type": "code",
   "execution_count": null,
   "metadata": {
    "Collapsed": "false"
   },
   "outputs": [],
   "source": [
    "# latitude range 0 - 90\n",
    "# longitude range 0 - 180\n",
    "\n",
    "# random input coordinates\n",
    "lat1 = 75.6\n",
    "lon1 = 170\n",
    "lat2 = 10\n",
    "lon2 = 10\n",
    "\n",
    "# The distance should always be smaller than half the circumference of the world !\n",
    "tc = unittest.TestCase(\"__init__\")\n",
    "\n",
    "half_earth_circumference = 2 * pi * _AVG_EARTH_RADIUS_KM / 2\n",
    "tc.assertTrue(\n",
    "    haversine(lat1, lon1, lat2, lon2) < half_earth_circumference,\n",
    "    f\" great-circle distance between 2 points is bigger than half_earth_circumference\",\n",
    ")\n",
    "tc.assertTrue(\n",
    "    haversine(lat1, lon1, lat2, lon2) > 0, f\" great-circle distance is negative\"\n",
    ")\n",
    "\n",
    "# half_earth_circumference\n",
    "# haversine(lat1, lon1, lat2, lon2)"
   ]
  },
  {
   "cell_type": "markdown",
   "metadata": {
    "Collapsed": "true"
   },
   "source": [
    "## Stores and nis-districts close to location of interest"
   ]
  },
  {
   "cell_type": "code",
   "execution_count": null,
   "metadata": {
    "Collapsed": "false"
   },
   "outputs": [],
   "source": [
    "# Let's create some variables to indicate the location of your interest\n",
    "# Data points from GoogleMaps URL\n",
    "home_lat = 50.873769\n",
    "home_lon = 4.712944\n",
    "perimeter_distance = 2  # km"
   ]
  },
  {
   "cell_type": "code",
   "execution_count": null,
   "metadata": {
    "Collapsed": "false"
   },
   "outputs": [],
   "source": [
    "# Figure out which nis districts are near your home\n",
    "# calculate the distance\n",
    "gdf[\"distance\"] = gdf[[\"centroid_lat\", \"centroid_lon\"]].apply(\n",
    "    lambda x: haversine(x.centroid_lat, x.centroid_lon, home_lat, home_lon), axis=1\n",
    ")\n",
    "# Notes\n",
    "# How to apply a function using 2 columns as input of a pandas df - https://stackoverflow.com/a/52854800/3056345\n",
    "# Can this be optimized? Currently not required\n",
    "\n",
    "# nis districts near my home\n",
    "gdf_nis_centroid_close_by = gdf[gdf[\"distance\"] < perimeter_distance]"
   ]
  },
  {
   "cell_type": "code",
   "execution_count": null,
   "metadata": {
    "Collapsed": "false"
   },
   "outputs": [],
   "source": [
    "# Which 5 stores (from the Data Ingestion excercise) are closest to my home and what is the bird's flight distance?\n",
    "\n",
    "df_stores = df_clp.rename(\n",
    "    columns={\n",
    "        \"commercialName\": \"store\",\n",
    "        \"geoCoordinates.latitude\": \"lat\",\n",
    "        \"geoCoordinates.longitude\": \"lon\",\n",
    "    }\n",
    ")[\n",
    "    [\n",
    "        \"store\",\n",
    "        \"lat\",\n",
    "        \"lon\",\n",
    "        \"address.streetName\",\n",
    "        \"address.houseNumber\",\n",
    "        \"address.postalcode\",\n",
    "        \"address.cityName\",\n",
    "        \"address.countryName\",\n",
    "        \"moreInfoUrl\",\n",
    "    ]\n",
    "]\n",
    "\n",
    "df_stores[\"distance\"] = df_stores[[\"lat\", \"lon\"]].apply(\n",
    "    lambda x: haversine(x.lat, x.lon, home_lat, home_lon), axis=1\n",
    ")\n",
    "\n",
    "df_stores = df_stores.sort_values(by=\"distance\", ascending=True).iloc[:5]\n",
    "\n",
    "df_stores.head(2)"
   ]
  },
  {
   "cell_type": "markdown",
   "metadata": {
    "Collapsed": "true"
   },
   "source": [
    "## Interactive map"
   ]
  },
  {
   "cell_type": "code",
   "execution_count": null,
   "metadata": {
    "Collapsed": "false"
   },
   "outputs": [],
   "source": [
    "home = [home_lat, home_lon]\n",
    "\n",
    "# create base map\n",
    "m = folium.Map(location=home, tiles=\"OpenStreetMap\", zoom_start=14)\n",
    "\n",
    "# add home marker\n",
    "folium.Marker(location=home, tooltip=\"home\").add_to(m)\n",
    "\n",
    "# add perimeter\n",
    "folium.Circle(\n",
    "    location=home,\n",
    "    color=\"#3186cc\",\n",
    "    fill=False,\n",
    "    # fill_color='#3186cc',\n",
    "    tooltip=f\"{perimeter_distance}km perimeter from home\",\n",
    "    radius=perimeter_distance * 1000,\n",
    ").add_to(m)\n",
    "\n",
    "# add nis centroids\n",
    "centroids = zip(\n",
    "    gdf_nis_centroid_close_by.centroid_lat, gdf_nis_centroid_close_by.centroid_lon\n",
    ")\n",
    "for centroid in centroids:\n",
    "    folium.CircleMarker(location=centroid, color=\"red\", radius=1).add_to(m)\n",
    "\n",
    "# add nis polygon area\n",
    "folium.Choropleth(\n",
    "    geo_data=gdf_nis_centroid_close_by.to_json(),\n",
    "    line_color=\"grey\",\n",
    "    line_weight=3,\n",
    "    line_opacity=0.8,\n",
    "    fill_color=\"grey\",\n",
    "    fill_opacity=0.2,\n",
    "    smooth_factor=2.0,  # default: 1.0 More means better performance and smoother look, and less means more accurate representation\n",
    "    name=\"nis area\",\n",
    "    overlay=True,\n",
    "    control=True,\n",
    "    show=True,\n",
    ").add_to(m)\n",
    "\n",
    "folium.LayerControl().add_to(m)\n",
    "\n",
    "# add stores with popup info\n",
    "for index, store in df_stores.iterrows():\n",
    "    popup_html = f\"\"\"\n",
    "                {store.store}                \n",
    "                <br><br>bird's-eye distance: {round(store.distance,1)}km\n",
    "                <br><br>{store['address.streetName']}&nbsp;{store['address.houseNumber']}               \n",
    "                <br>{store['address.postalcode']} {store['address.cityName']}                \n",
    "                <br><br><a href=\"{store.moreInfoUrl}\">opening hours</a>                \n",
    "            \"\"\"\n",
    "    popup = folium.Popup(popup_html, min_width=1200, close_button=True)\n",
    "    folium.Marker(\n",
    "        location=(store.lat, store.lon),\n",
    "        tooltip=f\"{store.store}\",\n",
    "        popup=popup,\n",
    "        icon=folium.Icon(color=\"orange\", prefix=\"fa\", icon=\"shopping-cart\"),\n",
    "    ).add_to(m)\n",
    "\n",
    "# show map\n",
    "m"
   ]
  }
 ],
 "metadata": {
  "kernelspec": {
   "display_name": "Python [conda env:skills-demo]",
   "language": "python",
   "name": "conda-env-skills-demo-py"
  },
  "language_info": {
   "codemirror_mode": {
    "name": "ipython",
    "version": 3
   },
   "file_extension": ".py",
   "mimetype": "text/x-python",
   "name": "python",
   "nbconvert_exporter": "python",
   "pygments_lexer": "ipython3",
   "version": "3.7.6"
  },
  "toc-showtags": false
 },
 "nbformat": 4,
 "nbformat_minor": 4
}
